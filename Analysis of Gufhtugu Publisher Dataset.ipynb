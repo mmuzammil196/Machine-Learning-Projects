{
 "cells": [
  {
   "cell_type": "code",
   "execution_count": 1,
   "metadata": {},
   "outputs": [],
   "source": [
    "import pandas as pd\n",
    "import numpy as np"
   ]
  },
  {
   "cell_type": "markdown",
   "metadata": {},
   "source": [
    "# Let's Understand the Data  "
   ]
  },
  {
   "cell_type": "code",
   "execution_count": 2,
   "metadata": {},
   "outputs": [],
   "source": [
    "df = pd.read_csv('GP Orders - 5.csv')"
   ]
  },
  {
   "cell_type": "markdown",
   "metadata": {},
   "source": [
    "## 1. How Big is Our Data."
   ]
  },
  {
   "cell_type": "code",
   "execution_count": 3,
   "metadata": {},
   "outputs": [
    {
     "data": {
      "text/plain": [
       "(19239, 8)"
      ]
     },
     "execution_count": 3,
     "metadata": {},
     "output_type": "execute_result"
    }
   ],
   "source": [
    "df.shape"
   ]
  },
  {
   "cell_type": "markdown",
   "metadata": {},
   "source": [
    "# 2. How our Data is Look Like."
   ]
  },
  {
   "cell_type": "code",
   "execution_count": 4,
   "metadata": {},
   "outputs": [
    {
     "data": {
      "text/html": [
       "<div>\n",
       "<style scoped>\n",
       "    .dataframe tbody tr th:only-of-type {\n",
       "        vertical-align: middle;\n",
       "    }\n",
       "\n",
       "    .dataframe tbody tr th {\n",
       "        vertical-align: top;\n",
       "    }\n",
       "\n",
       "    .dataframe thead th {\n",
       "        text-align: right;\n",
       "    }\n",
       "</style>\n",
       "<table border=\"1\" class=\"dataframe\">\n",
       "  <thead>\n",
       "    <tr style=\"text-align: right;\">\n",
       "      <th></th>\n",
       "      <th>Order Number</th>\n",
       "      <th>Order Status</th>\n",
       "      <th>Book Name</th>\n",
       "      <th>Order Date &amp; Time</th>\n",
       "      <th>City</th>\n",
       "      <th>Payment Method</th>\n",
       "      <th>Total items</th>\n",
       "      <th>Total weight (grams)</th>\n",
       "    </tr>\n",
       "  </thead>\n",
       "  <tbody>\n",
       "    <tr>\n",
       "      <th>0</th>\n",
       "      <td>307</td>\n",
       "      <td>Completed</td>\n",
       "      <td>Bitcoin Blockchain aur Crypto Currency - FREE ...</td>\n",
       "      <td>10/3/2019 15:03</td>\n",
       "      <td>faisalabad</td>\n",
       "      <td>NaN</td>\n",
       "      <td>2</td>\n",
       "      <td>200.0</td>\n",
       "    </tr>\n",
       "    <tr>\n",
       "      <th>1</th>\n",
       "      <td>308</td>\n",
       "      <td>Completed</td>\n",
       "      <td>Kaggle for Begginers</td>\n",
       "      <td>10/3/2019 15:54</td>\n",
       "      <td>Rawalpindi</td>\n",
       "      <td>Cash on Delivery (COD)</td>\n",
       "      <td>1</td>\n",
       "      <td>200.0</td>\n",
       "    </tr>\n",
       "    <tr>\n",
       "      <th>2</th>\n",
       "      <td>309</td>\n",
       "      <td>Completed</td>\n",
       "      <td>Kaggle for Begginers/Bitcoin Blockchain aur Cr...</td>\n",
       "      <td>10/3/2019 16:09</td>\n",
       "      <td>Hyderabad</td>\n",
       "      <td>Cash on Delivery (COD)</td>\n",
       "      <td>2</td>\n",
       "      <td>200.0</td>\n",
       "    </tr>\n",
       "    <tr>\n",
       "      <th>3</th>\n",
       "      <td>310</td>\n",
       "      <td>Cancelled</td>\n",
       "      <td>Kaggle for Begginers</td>\n",
       "      <td>10/3/2019 16:42</td>\n",
       "      <td>Rawalpindi</td>\n",
       "      <td>Cash on Delivery (COD)</td>\n",
       "      <td>1</td>\n",
       "      <td>200.0</td>\n",
       "    </tr>\n",
       "    <tr>\n",
       "      <th>4</th>\n",
       "      <td>311</td>\n",
       "      <td>Completed</td>\n",
       "      <td>Bit Coin Block Chain aur Crypto Currency بٹ کو...</td>\n",
       "      <td>10/3/2019 16:44</td>\n",
       "      <td>Karachi</td>\n",
       "      <td>Cash on Delivery (COD)</td>\n",
       "      <td>1</td>\n",
       "      <td>200.0</td>\n",
       "    </tr>\n",
       "  </tbody>\n",
       "</table>\n",
       "</div>"
      ],
      "text/plain": [
       "   Order Number Order Status  \\\n",
       "0           307    Completed   \n",
       "1           308    Completed   \n",
       "2           309    Completed   \n",
       "3           310    Cancelled   \n",
       "4           311    Completed   \n",
       "\n",
       "                                           Book Name Order Date & Time  \\\n",
       "0  Bitcoin Blockchain aur Crypto Currency - FREE ...   10/3/2019 15:03   \n",
       "1                               Kaggle for Begginers   10/3/2019 15:54   \n",
       "2  Kaggle for Begginers/Bitcoin Blockchain aur Cr...   10/3/2019 16:09   \n",
       "3                               Kaggle for Begginers   10/3/2019 16:42   \n",
       "4  Bit Coin Block Chain aur Crypto Currency بٹ کو...   10/3/2019 16:44   \n",
       "\n",
       "         City          Payment Method  Total items  Total weight (grams)  \n",
       "0  faisalabad                     NaN            2                 200.0  \n",
       "1  Rawalpindi  Cash on Delivery (COD)            1                 200.0  \n",
       "2   Hyderabad  Cash on Delivery (COD)            2                 200.0  \n",
       "3  Rawalpindi  Cash on Delivery (COD)            1                 200.0  \n",
       "4    Karachi   Cash on Delivery (COD)            1                 200.0  "
      ]
     },
     "execution_count": 4,
     "metadata": {},
     "output_type": "execute_result"
    }
   ],
   "source": [
    "df.head()"
   ]
  },
  {
   "cell_type": "code",
   "execution_count": 5,
   "metadata": {},
   "outputs": [
    {
     "data": {
      "text/html": [
       "<div>\n",
       "<style scoped>\n",
       "    .dataframe tbody tr th:only-of-type {\n",
       "        vertical-align: middle;\n",
       "    }\n",
       "\n",
       "    .dataframe tbody tr th {\n",
       "        vertical-align: top;\n",
       "    }\n",
       "\n",
       "    .dataframe thead th {\n",
       "        text-align: right;\n",
       "    }\n",
       "</style>\n",
       "<table border=\"1\" class=\"dataframe\">\n",
       "  <thead>\n",
       "    <tr style=\"text-align: right;\">\n",
       "      <th></th>\n",
       "      <th>Order Number</th>\n",
       "      <th>Order Status</th>\n",
       "      <th>Book Name</th>\n",
       "      <th>Order Date &amp; Time</th>\n",
       "      <th>City</th>\n",
       "      <th>Payment Method</th>\n",
       "      <th>Total items</th>\n",
       "      <th>Total weight (grams)</th>\n",
       "    </tr>\n",
       "  </thead>\n",
       "  <tbody>\n",
       "    <tr>\n",
       "      <th>19234</th>\n",
       "      <td>71332</td>\n",
       "      <td>Completed</td>\n",
       "      <td>Linux - An Introduction</td>\n",
       "      <td>1/25/2021 12:46</td>\n",
       "      <td>Lahore</td>\n",
       "      <td>Cash on delivery</td>\n",
       "      <td>1</td>\n",
       "      <td>200.0</td>\n",
       "    </tr>\n",
       "    <tr>\n",
       "      <th>19235</th>\n",
       "      <td>71394</td>\n",
       "      <td>Completed</td>\n",
       "      <td>R ka Taaruf/ڈیٹا سائنس/Python Programming/Kagg...</td>\n",
       "      <td>1/25/2021 14:06</td>\n",
       "      <td>Lahore</td>\n",
       "      <td>Cash on delivery</td>\n",
       "      <td>4</td>\n",
       "      <td>200.0</td>\n",
       "    </tr>\n",
       "    <tr>\n",
       "      <th>19236</th>\n",
       "      <td>71418</td>\n",
       "      <td>Completed</td>\n",
       "      <td>Blockchain, Cryptocurrency And Bitcoin/Column ...</td>\n",
       "      <td>1/25/2021 16:37</td>\n",
       "      <td>Larkana</td>\n",
       "      <td>Cash on delivery</td>\n",
       "      <td>2</td>\n",
       "      <td>500.0</td>\n",
       "    </tr>\n",
       "    <tr>\n",
       "      <th>19237</th>\n",
       "      <td>71419</td>\n",
       "      <td>Completed</td>\n",
       "      <td>مشین لرننگ/ڈیٹا سائنس/Artificial Intelligence/...</td>\n",
       "      <td>1/25/2021 18:01</td>\n",
       "      <td>Mailsi, district Vehari</td>\n",
       "      <td>Cash on delivery</td>\n",
       "      <td>10</td>\n",
       "      <td>400.0</td>\n",
       "    </tr>\n",
       "    <tr>\n",
       "      <th>19238</th>\n",
       "      <td>71420</td>\n",
       "      <td>Completed</td>\n",
       "      <td>Linux - An Introduction/Python Programming/Kag...</td>\n",
       "      <td>1/25/2021 20:47</td>\n",
       "      <td>Lahore</td>\n",
       "      <td>Cash on delivery</td>\n",
       "      <td>7</td>\n",
       "      <td>400.0</td>\n",
       "    </tr>\n",
       "  </tbody>\n",
       "</table>\n",
       "</div>"
      ],
      "text/plain": [
       "       Order Number Order Status  \\\n",
       "19234         71332    Completed   \n",
       "19235         71394    Completed   \n",
       "19236         71418    Completed   \n",
       "19237         71419    Completed   \n",
       "19238         71420    Completed   \n",
       "\n",
       "                                               Book Name Order Date & Time  \\\n",
       "19234                            Linux - An Introduction   1/25/2021 12:46   \n",
       "19235  R ka Taaruf/ڈیٹا سائنس/Python Programming/Kagg...   1/25/2021 14:06   \n",
       "19236  Blockchain, Cryptocurrency And Bitcoin/Column ...   1/25/2021 16:37   \n",
       "19237  مشین لرننگ/ڈیٹا سائنس/Artificial Intelligence/...   1/25/2021 18:01   \n",
       "19238  Linux - An Introduction/Python Programming/Kag...   1/25/2021 20:47   \n",
       "\n",
       "                          City    Payment Method  Total items  \\\n",
       "19234                   Lahore  Cash on delivery            1   \n",
       "19235                   Lahore  Cash on delivery            4   \n",
       "19236                  Larkana  Cash on delivery            2   \n",
       "19237  Mailsi, district Vehari  Cash on delivery           10   \n",
       "19238                   Lahore  Cash on delivery            7   \n",
       "\n",
       "       Total weight (grams)  \n",
       "19234                 200.0  \n",
       "19235                 200.0  \n",
       "19236                 500.0  \n",
       "19237                 400.0  \n",
       "19238                 400.0  "
      ]
     },
     "execution_count": 5,
     "metadata": {},
     "output_type": "execute_result"
    }
   ],
   "source": [
    "df.tail()"
   ]
  },
  {
   "cell_type": "markdown",
   "metadata": {},
   "source": [
    "# 3. What are the Data types of our Columns."
   ]
  },
  {
   "cell_type": "code",
   "execution_count": 6,
   "metadata": {},
   "outputs": [
    {
     "name": "stdout",
     "output_type": "stream",
     "text": [
      "<class 'pandas.core.frame.DataFrame'>\n",
      "RangeIndex: 19239 entries, 0 to 19238\n",
      "Data columns (total 8 columns):\n",
      " #   Column                Non-Null Count  Dtype  \n",
      "---  ------                --------------  -----  \n",
      " 0   Order Number          19239 non-null  int64  \n",
      " 1   Order Status          19239 non-null  object \n",
      " 2   Book Name             19237 non-null  object \n",
      " 3   Order Date & Time     19239 non-null  object \n",
      " 4   City                  19238 non-null  object \n",
      " 5   Payment Method        19229 non-null  object \n",
      " 6   Total items           19239 non-null  int64  \n",
      " 7   Total weight (grams)  19239 non-null  float64\n",
      "dtypes: float64(1), int64(2), object(5)\n",
      "memory usage: 1.2+ MB\n"
     ]
    }
   ],
   "source": [
    "df.info()"
   ]
  },
  {
   "cell_type": "markdown",
   "metadata": {},
   "source": [
    "# 4. Are there any missing values in our dataset."
   ]
  },
  {
   "cell_type": "code",
   "execution_count": 7,
   "metadata": {},
   "outputs": [
    {
     "data": {
      "text/plain": [
       "Order Number             0\n",
       "Order Status             0\n",
       "Book Name                2\n",
       "Order Date & Time        0\n",
       "City                     1\n",
       "Payment Method          10\n",
       "Total items              0\n",
       "Total weight (grams)     0\n",
       "dtype: int64"
      ]
     },
     "execution_count": 7,
     "metadata": {},
     "output_type": "execute_result"
    }
   ],
   "source": [
    "df.isnull().sum()"
   ]
  },
  {
   "cell_type": "code",
   "execution_count": 8,
   "metadata": {},
   "outputs": [
    {
     "data": {
      "text/plain": [
       "Order Number            0.000000\n",
       "Order Status            0.000000\n",
       "Book Name               0.010396\n",
       "Order Date & Time       0.000000\n",
       "City                    0.005198\n",
       "Payment Method          0.051978\n",
       "Total items             0.000000\n",
       "Total weight (grams)    0.000000\n",
       "dtype: float64"
      ]
     },
     "execution_count": 8,
     "metadata": {},
     "output_type": "execute_result"
    }
   ],
   "source": [
    "# check missing values column wise.\n",
    "df.isnull().mean()*100"
   ]
  },
  {
   "cell_type": "code",
   "execution_count": 9,
   "metadata": {},
   "outputs": [],
   "source": [
    "# drop missing value\n",
    "df = df.dropna()"
   ]
  },
  {
   "cell_type": "code",
   "execution_count": 10,
   "metadata": {},
   "outputs": [
    {
     "data": {
      "text/plain": [
       "Order Number            0.0\n",
       "Order Status            0.0\n",
       "Book Name               0.0\n",
       "Order Date & Time       0.0\n",
       "City                    0.0\n",
       "Payment Method          0.0\n",
       "Total items             0.0\n",
       "Total weight (grams)    0.0\n",
       "dtype: float64"
      ]
     },
     "execution_count": 10,
     "metadata": {},
     "output_type": "execute_result"
    }
   ],
   "source": [
    "# check missing values column wise.\n",
    "df.isnull().mean()*100"
   ]
  },
  {
   "cell_type": "code",
   "execution_count": 11,
   "metadata": {},
   "outputs": [
    {
     "data": {
      "text/plain": [
       "(19226, 8)"
      ]
     },
     "execution_count": 11,
     "metadata": {},
     "output_type": "execute_result"
    }
   ],
   "source": [
    "df.shape"
   ]
  },
  {
   "cell_type": "markdown",
   "metadata": {},
   "source": [
    "# 5. How does the data look like mathematically."
   ]
  },
  {
   "cell_type": "code",
   "execution_count": 12,
   "metadata": {},
   "outputs": [
    {
     "data": {
      "text/html": [
       "<div>\n",
       "<style scoped>\n",
       "    .dataframe tbody tr th:only-of-type {\n",
       "        vertical-align: middle;\n",
       "    }\n",
       "\n",
       "    .dataframe tbody tr th {\n",
       "        vertical-align: top;\n",
       "    }\n",
       "\n",
       "    .dataframe thead th {\n",
       "        text-align: right;\n",
       "    }\n",
       "</style>\n",
       "<table border=\"1\" class=\"dataframe\">\n",
       "  <thead>\n",
       "    <tr style=\"text-align: right;\">\n",
       "      <th></th>\n",
       "      <th>Order Number</th>\n",
       "      <th>Total items</th>\n",
       "      <th>Total weight (grams)</th>\n",
       "    </tr>\n",
       "  </thead>\n",
       "  <tbody>\n",
       "    <tr>\n",
       "      <th>count</th>\n",
       "      <td>19226.000000</td>\n",
       "      <td>19226.000000</td>\n",
       "      <td>19226.000000</td>\n",
       "    </tr>\n",
       "    <tr>\n",
       "      <th>mean</th>\n",
       "      <td>52531.706595</td>\n",
       "      <td>6.054510</td>\n",
       "      <td>363.844794</td>\n",
       "    </tr>\n",
       "    <tr>\n",
       "      <th>std</th>\n",
       "      <td>15826.973185</td>\n",
       "      <td>577.133472</td>\n",
       "      <td>834.368673</td>\n",
       "    </tr>\n",
       "    <tr>\n",
       "      <th>min</th>\n",
       "      <td>308.000000</td>\n",
       "      <td>1.000000</td>\n",
       "      <td>200.000000</td>\n",
       "    </tr>\n",
       "    <tr>\n",
       "      <th>25%</th>\n",
       "      <td>48063.250000</td>\n",
       "      <td>1.000000</td>\n",
       "      <td>200.000000</td>\n",
       "    </tr>\n",
       "    <tr>\n",
       "      <th>50%</th>\n",
       "      <td>56429.500000</td>\n",
       "      <td>1.000000</td>\n",
       "      <td>200.000000</td>\n",
       "    </tr>\n",
       "    <tr>\n",
       "      <th>75%</th>\n",
       "      <td>63770.750000</td>\n",
       "      <td>1.000000</td>\n",
       "      <td>500.000000</td>\n",
       "    </tr>\n",
       "    <tr>\n",
       "      <th>max</th>\n",
       "      <td>71420.000000</td>\n",
       "      <td>80022.000000</td>\n",
       "      <td>55000.000000</td>\n",
       "    </tr>\n",
       "  </tbody>\n",
       "</table>\n",
       "</div>"
      ],
      "text/plain": [
       "       Order Number   Total items  Total weight (grams)\n",
       "count  19226.000000  19226.000000          19226.000000\n",
       "mean   52531.706595      6.054510            363.844794\n",
       "std    15826.973185    577.133472            834.368673\n",
       "min      308.000000      1.000000            200.000000\n",
       "25%    48063.250000      1.000000            200.000000\n",
       "50%    56429.500000      1.000000            200.000000\n",
       "75%    63770.750000      1.000000            500.000000\n",
       "max    71420.000000  80022.000000          55000.000000"
      ]
     },
     "execution_count": 12,
     "metadata": {},
     "output_type": "execute_result"
    }
   ],
   "source": [
    "df.describe()"
   ]
  },
  {
   "cell_type": "markdown",
   "metadata": {},
   "source": [
    "# 6. Are they any duplicates values in our dataset."
   ]
  },
  {
   "cell_type": "code",
   "execution_count": 13,
   "metadata": {},
   "outputs": [
    {
     "data": {
      "text/plain": [
       "0"
      ]
     },
     "execution_count": 13,
     "metadata": {},
     "output_type": "execute_result"
    }
   ],
   "source": [
    "df.duplicated().sum()"
   ]
  },
  {
   "cell_type": "markdown",
   "metadata": {},
   "source": [
    "# 7. Knowing correlation of each column with another columns."
   ]
  },
  {
   "cell_type": "code",
   "execution_count": 14,
   "metadata": {},
   "outputs": [
    {
     "data": {
      "text/html": [
       "<div>\n",
       "<style scoped>\n",
       "    .dataframe tbody tr th:only-of-type {\n",
       "        vertical-align: middle;\n",
       "    }\n",
       "\n",
       "    .dataframe tbody tr th {\n",
       "        vertical-align: top;\n",
       "    }\n",
       "\n",
       "    .dataframe thead th {\n",
       "        text-align: right;\n",
       "    }\n",
       "</style>\n",
       "<table border=\"1\" class=\"dataframe\">\n",
       "  <thead>\n",
       "    <tr style=\"text-align: right;\">\n",
       "      <th></th>\n",
       "      <th>Order Number</th>\n",
       "      <th>Total items</th>\n",
       "      <th>Total weight (grams)</th>\n",
       "    </tr>\n",
       "  </thead>\n",
       "  <tbody>\n",
       "    <tr>\n",
       "      <th>Order Number</th>\n",
       "      <td>1.000000</td>\n",
       "      <td>0.007025</td>\n",
       "      <td>-0.032883</td>\n",
       "    </tr>\n",
       "    <tr>\n",
       "      <th>Total items</th>\n",
       "      <td>0.007025</td>\n",
       "      <td>1.000000</td>\n",
       "      <td>0.001983</td>\n",
       "    </tr>\n",
       "    <tr>\n",
       "      <th>Total weight (grams)</th>\n",
       "      <td>-0.032883</td>\n",
       "      <td>0.001983</td>\n",
       "      <td>1.000000</td>\n",
       "    </tr>\n",
       "  </tbody>\n",
       "</table>\n",
       "</div>"
      ],
      "text/plain": [
       "                      Order Number  Total items  Total weight (grams)\n",
       "Order Number              1.000000     0.007025             -0.032883\n",
       "Total items               0.007025     1.000000              0.001983\n",
       "Total weight (grams)     -0.032883     0.001983              1.000000"
      ]
     },
     "execution_count": 14,
     "metadata": {},
     "output_type": "execute_result"
    }
   ],
   "source": [
    "df.corr()"
   ]
  },
  {
   "cell_type": "code",
   "execution_count": 15,
   "metadata": {},
   "outputs": [],
   "source": [
    "# df.corr()['S']"
   ]
  },
  {
   "cell_type": "markdown",
   "metadata": {},
   "source": [
    "# EDA using Univariate Analysis  "
   ]
  },
  {
   "cell_type": "markdown",
   "metadata": {},
   "source": [
    "## 1. Categorical Data"
   ]
  },
  {
   "cell_type": "code",
   "execution_count": 16,
   "metadata": {},
   "outputs": [],
   "source": [
    "import matplotlib.pyplot as plt\n",
    "import seaborn as sns\n",
    "\n",
    "%matplotlib inline"
   ]
  },
  {
   "cell_type": "markdown",
   "metadata": {},
   "source": [
    "### a. Countplot"
   ]
  },
  {
   "cell_type": "code",
   "execution_count": 17,
   "metadata": {},
   "outputs": [
    {
     "name": "stdout",
     "output_type": "stream",
     "text": [
      "<class 'pandas.core.frame.DataFrame'>\n",
      "Int64Index: 19226 entries, 1 to 19238\n",
      "Data columns (total 8 columns):\n",
      " #   Column                Non-Null Count  Dtype  \n",
      "---  ------                --------------  -----  \n",
      " 0   Order Number          19226 non-null  int64  \n",
      " 1   Order Status          19226 non-null  object \n",
      " 2   Book Name             19226 non-null  object \n",
      " 3   Order Date & Time     19226 non-null  object \n",
      " 4   City                  19226 non-null  object \n",
      " 5   Payment Method        19226 non-null  object \n",
      " 6   Total items           19226 non-null  int64  \n",
      " 7   Total weight (grams)  19226 non-null  float64\n",
      "dtypes: float64(1), int64(2), object(5)\n",
      "memory usage: 1.3+ MB\n"
     ]
    }
   ],
   "source": [
    "df.info()"
   ]
  },
  {
   "cell_type": "code",
   "execution_count": 18,
   "metadata": {},
   "outputs": [
    {
     "data": {
      "text/plain": [
       "Completed    17937\n",
       "Returned      1140\n",
       "Cancelled      149\n",
       "Name: Order Status, dtype: int64"
      ]
     },
     "execution_count": 18,
     "metadata": {},
     "output_type": "execute_result"
    }
   ],
   "source": [
    "df['Order Status'].value_counts()"
   ]
  },
  {
   "cell_type": "code",
   "execution_count": 19,
   "metadata": {},
   "outputs": [
    {
     "data": {
      "text/plain": [
       "<AxesSubplot:xlabel='count', ylabel='Order Status'>"
      ]
     },
     "execution_count": 19,
     "metadata": {},
     "output_type": "execute_result"
    },
    {
     "data": {
      "image/png": "[encoded data removed]",
      "text/plain": [
       "<Figure size 432x288 with 1 Axes>"
      ]
     },
     "metadata": {
      "needs_background": "light"
     },
     "output_type": "display_data"
    }
   ],
   "source": [
    "sns.countplot(y = df['Order Status'])"
   ]
  },
  {
   "cell_type": "code",
   "execution_count": 20,
   "metadata": {},
   "outputs": [
    {
     "data": {
      "text/plain": [
       "Cash on delivery          17470\n",
       "EasyPaisa                   696\n",
       "JazzCash                    596\n",
       "BankTransfer                457\n",
       "Cash on Delivery (COD)        7\n",
       "Name: Payment Method, dtype: int64"
      ]
     },
     "execution_count": 20,
     "metadata": {},
     "output_type": "execute_result"
    }
   ],
   "source": [
    "df['Payment Method'].value_counts()"
   ]
  },
  {
   "cell_type": "code",
   "execution_count": 21,
   "metadata": {},
   "outputs": [
    {
     "data": {
      "text/plain": [
       "<AxesSubplot:xlabel='count', ylabel='Payment Method'>"
      ]
     },
     "execution_count": 21,
     "metadata": {},
     "output_type": "execute_result"
    },
    {
     "data": {
      "image/png": "[encoded data removed]",
      "text/plain": [
       "<Figure size 432x288 with 1 Axes>"
      ]
     },
     "metadata": {
      "needs_background": "light"
     },
     "output_type": "display_data"
    }
   ],
   "source": [
    "sns.countplot(y = df['Payment Method'])"
   ]
  },
  {
   "cell_type": "markdown",
   "metadata": {},
   "source": [
    "## b. Pie Chart."
   ]
  },
  {
   "cell_type": "code",
   "execution_count": 22,
   "metadata": {},
   "outputs": [
    {
     "data": {
      "image/png": "[encoded data removed]",
      "text/plain": [
       "<Figure size 720x432 with 1 Axes>"
      ]
     },
     "metadata": {},
     "output_type": "display_data"
    }
   ],
   "source": [
    "plt.figure(figsize = (10, 6))\n",
    "df['Order Status'].value_counts().plot(kind = 'pie', autopct = '%.2f')\n",
    "plt.show()"
   ]
  },
  {
   "cell_type": "code",
   "execution_count": 23,
   "metadata": {},
   "outputs": [
    {
     "data": {
      "text/plain": [
       "<AxesSubplot:ylabel='Payment Method'>"
      ]
     },
     "execution_count": 23,
     "metadata": {},
     "output_type": "execute_result"
    },
    {
     "data": {
      "image/png": "[encoded data removed]",
      "text/plain": [
       "<Figure size 720x432 with 1 Axes>"
      ]
     },
     "metadata": {},
     "output_type": "display_data"
    }
   ],
   "source": [
    "plt.figure(figsize = (10, 6))\n",
    "df['Payment Method'].value_counts().plot(kind = 'pie', autopct = '%.2f')"
   ]
  },
  {
   "cell_type": "code",
   "execution_count": 24,
   "metadata": {},
   "outputs": [],
   "source": [
    "from pandas_profiling import ProfileReport"
   ]
  },
  {
   "cell_type": "code",
   "execution_count": 25,
   "metadata": {},
   "outputs": [],
   "source": [
    "profile_report = ProfileReport(df)"
   ]
  },
  {
   "cell_type": "code",
   "execution_count": 26,
   "metadata": {},
   "outputs": [
    {
     "data": {
      "application/vnd.jupyter.widget-view+json": {
       "model_id": "e7ff541f603e4c318651066c498bf493",
       "version_major": 2,
       "version_minor": 0
      },
      "text/plain": [
       "HBox(children=(HTML(value='Summarize dataset'), FloatProgress(value=0.0, max=22.0), HTML(value='')))"
      ]
     },
     "metadata": {},
     "output_type": "display_data"
    },
    {
     "name": "stdout",
     "output_type": "stream",
     "text": [
      "\n"
     ]
    },
    {
     "data": {
      "application/vnd.jupyter.widget-view+json": {
       "model_id": "4b1b992b7dad4363b8c2d21e50213092",
       "version_major": 2,
       "version_minor": 0
      },
      "text/plain": [
       "HBox(children=(HTML(value='Generate report structure'), FloatProgress(value=0.0, max=1.0), HTML(value='')))"
      ]
     },
     "metadata": {},
     "output_type": "display_data"
    },
    {
     "name": "stdout",
     "output_type": "stream",
     "text": [
      "\n"
     ]
    },
    {
     "data": {
      "application/vnd.jupyter.widget-view+json": {
       "model_id": "ab4c533ff55c4a78b7a512b0510a4359",
       "version_major": 2,
       "version_minor": 0
      },
      "text/plain": [
       "HBox(children=(HTML(value='Render HTML'), FloatProgress(value=0.0, max=1.0), HTML(value='')))"
      ]
     },
     "metadata": {},
     "output_type": "display_data"
    },
    {
     "name": "stdout",
     "output_type": "stream",
     "text": [
      "\n"
     ]
    },
    {
     "data": {
      "application/vnd.jupyter.widget-view+json": {
       "model_id": "0d51db620f2747bc953ba7e3a3f1674a",
       "version_major": 2,
       "version_minor": 0
      },
      "text/plain": [
       "HBox(children=(HTML(value='Export report to file'), FloatProgress(value=0.0, max=1.0), HTML(value='')))"
      ]
     },
     "metadata": {},
     "output_type": "display_data"
    },
    {
     "name": "stdout",
     "output_type": "stream",
     "text": [
      "\n"
     ]
    }
   ],
   "source": [
    "profile_report.to_file(output_file = 'gufhtugueda.html')"
   ]
  },
  {
   "cell_type": "markdown",
   "metadata": {},
   "source": [
    "## Working with date & time dataset"
   ]
  },
  {
   "cell_type": "code",
   "execution_count": 27,
   "metadata": {},
   "outputs": [
    {
     "data": {
      "text/plain": [
       "1    10/3/2019 15:54\n",
       "2    10/3/2019 16:09\n",
       "3    10/3/2019 16:42\n",
       "4    10/3/2019 16:44\n",
       "5    10/3/2019 18:17\n",
       "Name: Order Date & Time, dtype: object"
      ]
     },
     "execution_count": 27,
     "metadata": {},
     "output_type": "execute_result"
    }
   ],
   "source": [
    "df['Order Date & Time'].head()"
   ]
  },
  {
   "cell_type": "code",
   "execution_count": 28,
   "metadata": {},
   "outputs": [],
   "source": [
    "# convert date and time feature datatype object to datatype datetime\n",
    "df['Order Date & Time'] = pd.to_datetime(df['Order Date & Time'])"
   ]
  },
  {
   "cell_type": "code",
   "execution_count": 29,
   "metadata": {},
   "outputs": [
    {
     "data": {
      "text/plain": [
       "1    2019\n",
       "2    2019\n",
       "3    2019\n",
       "4    2019\n",
       "5    2019\n",
       "Name: order_year, dtype: int64"
      ]
     },
     "execution_count": 29,
     "metadata": {},
     "output_type": "execute_result"
    }
   ],
   "source": [
    "df['order_year'] = df['Order Date & Time'].dt.year\n",
    "df['order_year'].head()"
   ]
  },
  {
   "cell_type": "code",
   "execution_count": 30,
   "metadata": {},
   "outputs": [
    {
     "data": {
      "text/plain": [
       "1    10\n",
       "2    10\n",
       "3    10\n",
       "4    10\n",
       "5    10\n",
       "Name: order_month, dtype: int64"
      ]
     },
     "execution_count": 30,
     "metadata": {},
     "output_type": "execute_result"
    }
   ],
   "source": [
    "df['order_month'] = df['Order Date & Time'].dt.month\n",
    "df['order_month'].head()"
   ]
  },
  {
   "cell_type": "code",
   "execution_count": 31,
   "metadata": {},
   "outputs": [
    {
     "data": {
      "text/plain": [
       "1    October\n",
       "2    October\n",
       "3    October\n",
       "4    October\n",
       "5    October\n",
       "Name: order_month_name, dtype: object"
      ]
     },
     "execution_count": 31,
     "metadata": {},
     "output_type": "execute_result"
    }
   ],
   "source": [
    "df['order_month_name'] = df['Order Date & Time'].dt.month_name()\n",
    "df['order_month_name'].head()"
   ]
  },
  {
   "cell_type": "code",
   "execution_count": 32,
   "metadata": {},
   "outputs": [
    {
     "data": {
      "text/plain": [
       "1    3\n",
       "2    3\n",
       "3    3\n",
       "4    3\n",
       "5    3\n",
       "Name: order_day, dtype: int64"
      ]
     },
     "execution_count": 32,
     "metadata": {},
     "output_type": "execute_result"
    }
   ],
   "source": [
    "df['order_day'] = df['Order Date & Time'].dt.day\n",
    "df['order_day'].head()"
   ]
  },
  {
   "cell_type": "code",
   "execution_count": 33,
   "metadata": {},
   "outputs": [
    {
     "data": {
      "text/plain": [
       "1    Thursday\n",
       "2    Thursday\n",
       "3    Thursday\n",
       "4    Thursday\n",
       "5    Thursday\n",
       "Name: order_day_name, dtype: object"
      ]
     },
     "execution_count": 33,
     "metadata": {},
     "output_type": "execute_result"
    }
   ],
   "source": [
    "df['order_day_name'] = df['Order Date & Time'].dt.day_name()\n",
    "df['order_day_name'].head()"
   ]
  },
  {
   "cell_type": "code",
   "execution_count": 34,
   "metadata": {},
   "outputs": [
    {
     "data": {
      "text/plain": [
       "1        3\n",
       "2        3\n",
       "3        3\n",
       "4        3\n",
       "5        3\n",
       "        ..\n",
       "19234    0\n",
       "19235    0\n",
       "19236    0\n",
       "19237    0\n",
       "19238    0\n",
       "Name: order_day_of_week, Length: 19226, dtype: int64"
      ]
     },
     "execution_count": 34,
     "metadata": {},
     "output_type": "execute_result"
    }
   ],
   "source": [
    "df['order_day_of_week'] = df['Order Date & Time'].dt.dayofweek\n",
    "df['order_day_of_week']"
   ]
  },
  {
   "cell_type": "code",
   "execution_count": 35,
   "metadata": {},
   "outputs": [
    {
     "data": {
      "text/plain": [
       "1        0\n",
       "2        0\n",
       "3        0\n",
       "4        0\n",
       "5        0\n",
       "        ..\n",
       "19234    0\n",
       "19235    0\n",
       "19236    0\n",
       "19237    0\n",
       "19238    0\n",
       "Name: order_day_is_weekend, Length: 19226, dtype: int32"
      ]
     },
     "execution_count": 35,
     "metadata": {},
     "output_type": "execute_result"
    }
   ],
   "source": [
    "df['order_day_is_weekend'] = np.where(df['order_day_name'].isin(['Saturday', 'Sunday']), 1,0)\n",
    "df['order_day_is_weekend']"
   ]
  },
  {
   "cell_type": "code",
   "execution_count": 36,
   "metadata": {},
   "outputs": [
    {
     "name": "stderr",
     "output_type": "stream",
     "text": [
      "<ipython-input-36-fa20ffcf8051>:1: FutureWarning: Series.dt.weekofyear and Series.dt.week have been deprecated.  Please use Series.dt.isocalendar().week instead.\n",
      "  df['order_week_of_the_year'] = df['Order Date & Time'].dt.week\n"
     ]
    },
    {
     "data": {
      "text/plain": [
       "1        40\n",
       "2        40\n",
       "3        40\n",
       "4        40\n",
       "5        40\n",
       "         ..\n",
       "19234     4\n",
       "19235     4\n",
       "19236     4\n",
       "19237     4\n",
       "19238     4\n",
       "Name: order_week_of_the_year, Length: 19226, dtype: int64"
      ]
     },
     "execution_count": 36,
     "metadata": {},
     "output_type": "execute_result"
    }
   ],
   "source": [
    "df['order_week_of_the_year'] = df['Order Date & Time'].dt.week\n",
    "df['order_week_of_the_year']"
   ]
  },
  {
   "cell_type": "code",
   "execution_count": 37,
   "metadata": {},
   "outputs": [
    {
     "data": {
      "text/plain": [
       "1    4\n",
       "2    4\n",
       "3    4\n",
       "4    4\n",
       "5    4\n",
       "Name: order_quarter, dtype: int64"
      ]
     },
     "execution_count": 37,
     "metadata": {},
     "output_type": "execute_result"
    }
   ],
   "source": [
    "df['order_quarter'] = df['Order Date & Time'].dt.quarter\n",
    "df['order_quarter'].head()"
   ]
  },
  {
   "cell_type": "code",
   "execution_count": 38,
   "metadata": {},
   "outputs": [],
   "source": [
    "df['order_semester'] = np.where(df['order_quarter'].isin([1,2]), 1,2)"
   ]
  },
  {
   "cell_type": "code",
   "execution_count": 39,
   "metadata": {},
   "outputs": [
    {
     "data": {
      "text/html": [
       "<div>\n",
       "<style scoped>\n",
       "    .dataframe tbody tr th:only-of-type {\n",
       "        vertical-align: middle;\n",
       "    }\n",
       "\n",
       "    .dataframe tbody tr th {\n",
       "        vertical-align: top;\n",
       "    }\n",
       "\n",
       "    .dataframe thead th {\n",
       "        text-align: right;\n",
       "    }\n",
       "</style>\n",
       "<table border=\"1\" class=\"dataframe\">\n",
       "  <thead>\n",
       "    <tr style=\"text-align: right;\">\n",
       "      <th></th>\n",
       "      <th>Order Number</th>\n",
       "      <th>Order Status</th>\n",
       "      <th>Book Name</th>\n",
       "      <th>Order Date &amp; Time</th>\n",
       "      <th>City</th>\n",
       "      <th>Payment Method</th>\n",
       "      <th>Total items</th>\n",
       "      <th>Total weight (grams)</th>\n",
       "      <th>order_year</th>\n",
       "      <th>order_month</th>\n",
       "      <th>order_month_name</th>\n",
       "      <th>order_day</th>\n",
       "      <th>order_day_name</th>\n",
       "      <th>order_day_of_week</th>\n",
       "      <th>order_day_is_weekend</th>\n",
       "      <th>order_week_of_the_year</th>\n",
       "      <th>order_quarter</th>\n",
       "      <th>order_semester</th>\n",
       "    </tr>\n",
       "  </thead>\n",
       "  <tbody>\n",
       "    <tr>\n",
       "      <th>1</th>\n",
       "      <td>308</td>\n",
       "      <td>Completed</td>\n",
       "      <td>Kaggle for Begginers</td>\n",
       "      <td>2019-10-03 15:54:00</td>\n",
       "      <td>Rawalpindi</td>\n",
       "      <td>Cash on Delivery (COD)</td>\n",
       "      <td>1</td>\n",
       "      <td>200.0</td>\n",
       "      <td>2019</td>\n",
       "      <td>10</td>\n",
       "      <td>October</td>\n",
       "      <td>3</td>\n",
       "      <td>Thursday</td>\n",
       "      <td>3</td>\n",
       "      <td>0</td>\n",
       "      <td>40</td>\n",
       "      <td>4</td>\n",
       "      <td>2</td>\n",
       "    </tr>\n",
       "    <tr>\n",
       "      <th>2</th>\n",
       "      <td>309</td>\n",
       "      <td>Completed</td>\n",
       "      <td>Kaggle for Begginers/Bitcoin Blockchain aur Cr...</td>\n",
       "      <td>2019-10-03 16:09:00</td>\n",
       "      <td>Hyderabad</td>\n",
       "      <td>Cash on Delivery (COD)</td>\n",
       "      <td>2</td>\n",
       "      <td>200.0</td>\n",
       "      <td>2019</td>\n",
       "      <td>10</td>\n",
       "      <td>October</td>\n",
       "      <td>3</td>\n",
       "      <td>Thursday</td>\n",
       "      <td>3</td>\n",
       "      <td>0</td>\n",
       "      <td>40</td>\n",
       "      <td>4</td>\n",
       "      <td>2</td>\n",
       "    </tr>\n",
       "    <tr>\n",
       "      <th>3</th>\n",
       "      <td>310</td>\n",
       "      <td>Cancelled</td>\n",
       "      <td>Kaggle for Begginers</td>\n",
       "      <td>2019-10-03 16:42:00</td>\n",
       "      <td>Rawalpindi</td>\n",
       "      <td>Cash on Delivery (COD)</td>\n",
       "      <td>1</td>\n",
       "      <td>200.0</td>\n",
       "      <td>2019</td>\n",
       "      <td>10</td>\n",
       "      <td>October</td>\n",
       "      <td>3</td>\n",
       "      <td>Thursday</td>\n",
       "      <td>3</td>\n",
       "      <td>0</td>\n",
       "      <td>40</td>\n",
       "      <td>4</td>\n",
       "      <td>2</td>\n",
       "    </tr>\n",
       "    <tr>\n",
       "      <th>4</th>\n",
       "      <td>311</td>\n",
       "      <td>Completed</td>\n",
       "      <td>Bit Coin Block Chain aur Crypto Currency بٹ کو...</td>\n",
       "      <td>2019-10-03 16:44:00</td>\n",
       "      <td>Karachi</td>\n",
       "      <td>Cash on Delivery (COD)</td>\n",
       "      <td>1</td>\n",
       "      <td>200.0</td>\n",
       "      <td>2019</td>\n",
       "      <td>10</td>\n",
       "      <td>October</td>\n",
       "      <td>3</td>\n",
       "      <td>Thursday</td>\n",
       "      <td>3</td>\n",
       "      <td>0</td>\n",
       "      <td>40</td>\n",
       "      <td>4</td>\n",
       "      <td>2</td>\n",
       "    </tr>\n",
       "    <tr>\n",
       "      <th>5</th>\n",
       "      <td>312</td>\n",
       "      <td>Completed</td>\n",
       "      <td>Bit Coin Block Chain aur Crypto Currency بٹ کو...</td>\n",
       "      <td>2019-10-03 18:17:00</td>\n",
       "      <td>FSD</td>\n",
       "      <td>Cash on Delivery (COD)</td>\n",
       "      <td>5</td>\n",
       "      <td>200.0</td>\n",
       "      <td>2019</td>\n",
       "      <td>10</td>\n",
       "      <td>October</td>\n",
       "      <td>3</td>\n",
       "      <td>Thursday</td>\n",
       "      <td>3</td>\n",
       "      <td>0</td>\n",
       "      <td>40</td>\n",
       "      <td>4</td>\n",
       "      <td>2</td>\n",
       "    </tr>\n",
       "  </tbody>\n",
       "</table>\n",
       "</div>"
      ],
      "text/plain": [
       "   Order Number Order Status  \\\n",
       "1           308    Completed   \n",
       "2           309    Completed   \n",
       "3           310    Cancelled   \n",
       "4           311    Completed   \n",
       "5           312    Completed   \n",
       "\n",
       "                                           Book Name   Order Date & Time  \\\n",
       "1                               Kaggle for Begginers 2019-10-03 15:54:00   \n",
       "2  Kaggle for Begginers/Bitcoin Blockchain aur Cr... 2019-10-03 16:09:00   \n",
       "3                               Kaggle for Begginers 2019-10-03 16:42:00   \n",
       "4  Bit Coin Block Chain aur Crypto Currency بٹ کو... 2019-10-03 16:44:00   \n",
       "5  Bit Coin Block Chain aur Crypto Currency بٹ کو... 2019-10-03 18:17:00   \n",
       "\n",
       "         City          Payment Method  Total items  Total weight (grams)  \\\n",
       "1  Rawalpindi  Cash on Delivery (COD)            1                 200.0   \n",
       "2   Hyderabad  Cash on Delivery (COD)            2                 200.0   \n",
       "3  Rawalpindi  Cash on Delivery (COD)            1                 200.0   \n",
       "4    Karachi   Cash on Delivery (COD)            1                 200.0   \n",
       "5         FSD  Cash on Delivery (COD)            5                 200.0   \n",
       "\n",
       "   order_year  order_month order_month_name  order_day order_day_name  \\\n",
       "1        2019           10          October          3       Thursday   \n",
       "2        2019           10          October          3       Thursday   \n",
       "3        2019           10          October          3       Thursday   \n",
       "4        2019           10          October          3       Thursday   \n",
       "5        2019           10          October          3       Thursday   \n",
       "\n",
       "   order_day_of_week  order_day_is_weekend  order_week_of_the_year  \\\n",
       "1                  3                     0                      40   \n",
       "2                  3                     0                      40   \n",
       "3                  3                     0                      40   \n",
       "4                  3                     0                      40   \n",
       "5                  3                     0                      40   \n",
       "\n",
       "   order_quarter  order_semester  \n",
       "1              4               2  \n",
       "2              4               2  \n",
       "3              4               2  \n",
       "4              4               2  \n",
       "5              4               2  "
      ]
     },
     "execution_count": 39,
     "metadata": {},
     "output_type": "execute_result"
    }
   ],
   "source": [
    "df.head()"
   ]
  },
  {
   "cell_type": "code",
   "execution_count": 40,
   "metadata": {},
   "outputs": [
    {
     "data": {
      "text/plain": [
       "1    15\n",
       "2    16\n",
       "3    16\n",
       "4    16\n",
       "5    18\n",
       "Name: order_hour, dtype: int64"
      ]
     },
     "execution_count": 40,
     "metadata": {},
     "output_type": "execute_result"
    }
   ],
   "source": [
    "# extract hour\n",
    "df['order_hour'] = df['Order Date & Time'].dt.hour\n",
    "df['order_hour'].head()"
   ]
  },
  {
   "cell_type": "code",
   "execution_count": 41,
   "metadata": {},
   "outputs": [
    {
     "data": {
      "text/html": [
       "<div>\n",
       "<style scoped>\n",
       "    .dataframe tbody tr th:only-of-type {\n",
       "        vertical-align: middle;\n",
       "    }\n",
       "\n",
       "    .dataframe tbody tr th {\n",
       "        vertical-align: top;\n",
       "    }\n",
       "\n",
       "    .dataframe thead th {\n",
       "        text-align: right;\n",
       "    }\n",
       "</style>\n",
       "<table border=\"1\" class=\"dataframe\">\n",
       "  <thead>\n",
       "    <tr style=\"text-align: right;\">\n",
       "      <th></th>\n",
       "      <th>Order Number</th>\n",
       "      <th>Order Status</th>\n",
       "      <th>Book Name</th>\n",
       "      <th>Order Date &amp; Time</th>\n",
       "      <th>City</th>\n",
       "      <th>Payment Method</th>\n",
       "      <th>Total items</th>\n",
       "      <th>Total weight (grams)</th>\n",
       "      <th>order_year</th>\n",
       "      <th>order_month</th>\n",
       "      <th>order_month_name</th>\n",
       "      <th>order_day</th>\n",
       "      <th>order_day_name</th>\n",
       "      <th>order_day_of_week</th>\n",
       "      <th>order_day_is_weekend</th>\n",
       "      <th>order_week_of_the_year</th>\n",
       "      <th>order_quarter</th>\n",
       "      <th>order_semester</th>\n",
       "      <th>order_hour</th>\n",
       "    </tr>\n",
       "  </thead>\n",
       "  <tbody>\n",
       "    <tr>\n",
       "      <th>1</th>\n",
       "      <td>308</td>\n",
       "      <td>Completed</td>\n",
       "      <td>Kaggle for Begginers</td>\n",
       "      <td>2019-10-03 15:54:00</td>\n",
       "      <td>Rawalpindi</td>\n",
       "      <td>Cash on Delivery (COD)</td>\n",
       "      <td>1</td>\n",
       "      <td>200.0</td>\n",
       "      <td>2019</td>\n",
       "      <td>10</td>\n",
       "      <td>October</td>\n",
       "      <td>3</td>\n",
       "      <td>Thursday</td>\n",
       "      <td>3</td>\n",
       "      <td>0</td>\n",
       "      <td>40</td>\n",
       "      <td>4</td>\n",
       "      <td>2</td>\n",
       "      <td>15</td>\n",
       "    </tr>\n",
       "    <tr>\n",
       "      <th>2</th>\n",
       "      <td>309</td>\n",
       "      <td>Completed</td>\n",
       "      <td>Kaggle for Begginers/Bitcoin Blockchain aur Cr...</td>\n",
       "      <td>2019-10-03 16:09:00</td>\n",
       "      <td>Hyderabad</td>\n",
       "      <td>Cash on Delivery (COD)</td>\n",
       "      <td>2</td>\n",
       "      <td>200.0</td>\n",
       "      <td>2019</td>\n",
       "      <td>10</td>\n",
       "      <td>October</td>\n",
       "      <td>3</td>\n",
       "      <td>Thursday</td>\n",
       "      <td>3</td>\n",
       "      <td>0</td>\n",
       "      <td>40</td>\n",
       "      <td>4</td>\n",
       "      <td>2</td>\n",
       "      <td>16</td>\n",
       "    </tr>\n",
       "    <tr>\n",
       "      <th>3</th>\n",
       "      <td>310</td>\n",
       "      <td>Cancelled</td>\n",
       "      <td>Kaggle for Begginers</td>\n",
       "      <td>2019-10-03 16:42:00</td>\n",
       "      <td>Rawalpindi</td>\n",
       "      <td>Cash on Delivery (COD)</td>\n",
       "      <td>1</td>\n",
       "      <td>200.0</td>\n",
       "      <td>2019</td>\n",
       "      <td>10</td>\n",
       "      <td>October</td>\n",
       "      <td>3</td>\n",
       "      <td>Thursday</td>\n",
       "      <td>3</td>\n",
       "      <td>0</td>\n",
       "      <td>40</td>\n",
       "      <td>4</td>\n",
       "      <td>2</td>\n",
       "      <td>16</td>\n",
       "    </tr>\n",
       "    <tr>\n",
       "      <th>4</th>\n",
       "      <td>311</td>\n",
       "      <td>Completed</td>\n",
       "      <td>Bit Coin Block Chain aur Crypto Currency بٹ کو...</td>\n",
       "      <td>2019-10-03 16:44:00</td>\n",
       "      <td>Karachi</td>\n",
       "      <td>Cash on Delivery (COD)</td>\n",
       "      <td>1</td>\n",
       "      <td>200.0</td>\n",
       "      <td>2019</td>\n",
       "      <td>10</td>\n",
       "      <td>October</td>\n",
       "      <td>3</td>\n",
       "      <td>Thursday</td>\n",
       "      <td>3</td>\n",
       "      <td>0</td>\n",
       "      <td>40</td>\n",
       "      <td>4</td>\n",
       "      <td>2</td>\n",
       "      <td>16</td>\n",
       "    </tr>\n",
       "    <tr>\n",
       "      <th>5</th>\n",
       "      <td>312</td>\n",
       "      <td>Completed</td>\n",
       "      <td>Bit Coin Block Chain aur Crypto Currency بٹ کو...</td>\n",
       "      <td>2019-10-03 18:17:00</td>\n",
       "      <td>FSD</td>\n",
       "      <td>Cash on Delivery (COD)</td>\n",
       "      <td>5</td>\n",
       "      <td>200.0</td>\n",
       "      <td>2019</td>\n",
       "      <td>10</td>\n",
       "      <td>October</td>\n",
       "      <td>3</td>\n",
       "      <td>Thursday</td>\n",
       "      <td>3</td>\n",
       "      <td>0</td>\n",
       "      <td>40</td>\n",
       "      <td>4</td>\n",
       "      <td>2</td>\n",
       "      <td>18</td>\n",
       "    </tr>\n",
       "  </tbody>\n",
       "</table>\n",
       "</div>"
      ],
      "text/plain": [
       "   Order Number Order Status  \\\n",
       "1           308    Completed   \n",
       "2           309    Completed   \n",
       "3           310    Cancelled   \n",
       "4           311    Completed   \n",
       "5           312    Completed   \n",
       "\n",
       "                                           Book Name   Order Date & Time  \\\n",
       "1                               Kaggle for Begginers 2019-10-03 15:54:00   \n",
       "2  Kaggle for Begginers/Bitcoin Blockchain aur Cr... 2019-10-03 16:09:00   \n",
       "3                               Kaggle for Begginers 2019-10-03 16:42:00   \n",
       "4  Bit Coin Block Chain aur Crypto Currency بٹ کو... 2019-10-03 16:44:00   \n",
       "5  Bit Coin Block Chain aur Crypto Currency بٹ کو... 2019-10-03 18:17:00   \n",
       "\n",
       "         City          Payment Method  Total items  Total weight (grams)  \\\n",
       "1  Rawalpindi  Cash on Delivery (COD)            1                 200.0   \n",
       "2   Hyderabad  Cash on Delivery (COD)            2                 200.0   \n",
       "3  Rawalpindi  Cash on Delivery (COD)            1                 200.0   \n",
       "4    Karachi   Cash on Delivery (COD)            1                 200.0   \n",
       "5         FSD  Cash on Delivery (COD)            5                 200.0   \n",
       "\n",
       "   order_year  order_month order_month_name  order_day order_day_name  \\\n",
       "1        2019           10          October          3       Thursday   \n",
       "2        2019           10          October          3       Thursday   \n",
       "3        2019           10          October          3       Thursday   \n",
       "4        2019           10          October          3       Thursday   \n",
       "5        2019           10          October          3       Thursday   \n",
       "\n",
       "   order_day_of_week  order_day_is_weekend  order_week_of_the_year  \\\n",
       "1                  3                     0                      40   \n",
       "2                  3                     0                      40   \n",
       "3                  3                     0                      40   \n",
       "4                  3                     0                      40   \n",
       "5                  3                     0                      40   \n",
       "\n",
       "   order_quarter  order_semester  order_hour  \n",
       "1              4               2          15  \n",
       "2              4               2          16  \n",
       "3              4               2          16  \n",
       "4              4               2          16  \n",
       "5              4               2          18  "
      ]
     },
     "execution_count": 41,
     "metadata": {},
     "output_type": "execute_result"
    }
   ],
   "source": [
    "df.head()"
   ]
  },
  {
   "cell_type": "code",
   "execution_count": 42,
   "metadata": {},
   "outputs": [
    {
     "data": {
      "text/plain": [
       "1    54\n",
       "2     9\n",
       "3    42\n",
       "4    44\n",
       "5    17\n",
       "Name: order_minutes, dtype: int64"
      ]
     },
     "execution_count": 42,
     "metadata": {},
     "output_type": "execute_result"
    }
   ],
   "source": [
    "# extract minutes\n",
    "df['order_minutes'] = df['Order Date & Time'].dt.minute\n",
    "df['order_minutes'].head()"
   ]
  },
  {
   "cell_type": "code",
   "execution_count": 43,
   "metadata": {},
   "outputs": [
    {
     "data": {
      "text/plain": [
       "1    0\n",
       "2    0\n",
       "3    0\n",
       "4    0\n",
       "5    0\n",
       "Name: order_second, dtype: int64"
      ]
     },
     "execution_count": 43,
     "metadata": {},
     "output_type": "execute_result"
    }
   ],
   "source": [
    "# extract second\n",
    "df['order_second'] = df['Order Date & Time'].dt.second\n",
    "df['order_second'].head()"
   ]
  },
  {
   "cell_type": "code",
   "execution_count": 44,
   "metadata": {},
   "outputs": [
    {
     "data": {
      "text/html": [
       "<div>\n",
       "<style scoped>\n",
       "    .dataframe tbody tr th:only-of-type {\n",
       "        vertical-align: middle;\n",
       "    }\n",
       "\n",
       "    .dataframe tbody tr th {\n",
       "        vertical-align: top;\n",
       "    }\n",
       "\n",
       "    .dataframe thead th {\n",
       "        text-align: right;\n",
       "    }\n",
       "</style>\n",
       "<table border=\"1\" class=\"dataframe\">\n",
       "  <thead>\n",
       "    <tr style=\"text-align: right;\">\n",
       "      <th></th>\n",
       "      <th>Order Number</th>\n",
       "      <th>Order Status</th>\n",
       "      <th>Book Name</th>\n",
       "      <th>Order Date &amp; Time</th>\n",
       "      <th>City</th>\n",
       "      <th>Payment Method</th>\n",
       "      <th>Total items</th>\n",
       "      <th>Total weight (grams)</th>\n",
       "      <th>order_year</th>\n",
       "      <th>order_month</th>\n",
       "      <th>...</th>\n",
       "      <th>order_day</th>\n",
       "      <th>order_day_name</th>\n",
       "      <th>order_day_of_week</th>\n",
       "      <th>order_day_is_weekend</th>\n",
       "      <th>order_week_of_the_year</th>\n",
       "      <th>order_quarter</th>\n",
       "      <th>order_semester</th>\n",
       "      <th>order_hour</th>\n",
       "      <th>order_minutes</th>\n",
       "      <th>order_second</th>\n",
       "    </tr>\n",
       "  </thead>\n",
       "  <tbody>\n",
       "    <tr>\n",
       "      <th>1</th>\n",
       "      <td>308</td>\n",
       "      <td>Completed</td>\n",
       "      <td>Kaggle for Begginers</td>\n",
       "      <td>2019-10-03 15:54:00</td>\n",
       "      <td>Rawalpindi</td>\n",
       "      <td>Cash on Delivery (COD)</td>\n",
       "      <td>1</td>\n",
       "      <td>200.0</td>\n",
       "      <td>2019</td>\n",
       "      <td>10</td>\n",
       "      <td>...</td>\n",
       "      <td>3</td>\n",
       "      <td>Thursday</td>\n",
       "      <td>3</td>\n",
       "      <td>0</td>\n",
       "      <td>40</td>\n",
       "      <td>4</td>\n",
       "      <td>2</td>\n",
       "      <td>15</td>\n",
       "      <td>54</td>\n",
       "      <td>0</td>\n",
       "    </tr>\n",
       "    <tr>\n",
       "      <th>2</th>\n",
       "      <td>309</td>\n",
       "      <td>Completed</td>\n",
       "      <td>Kaggle for Begginers/Bitcoin Blockchain aur Cr...</td>\n",
       "      <td>2019-10-03 16:09:00</td>\n",
       "      <td>Hyderabad</td>\n",
       "      <td>Cash on Delivery (COD)</td>\n",
       "      <td>2</td>\n",
       "      <td>200.0</td>\n",
       "      <td>2019</td>\n",
       "      <td>10</td>\n",
       "      <td>...</td>\n",
       "      <td>3</td>\n",
       "      <td>Thursday</td>\n",
       "      <td>3</td>\n",
       "      <td>0</td>\n",
       "      <td>40</td>\n",
       "      <td>4</td>\n",
       "      <td>2</td>\n",
       "      <td>16</td>\n",
       "      <td>9</td>\n",
       "      <td>0</td>\n",
       "    </tr>\n",
       "    <tr>\n",
       "      <th>3</th>\n",
       "      <td>310</td>\n",
       "      <td>Cancelled</td>\n",
       "      <td>Kaggle for Begginers</td>\n",
       "      <td>2019-10-03 16:42:00</td>\n",
       "      <td>Rawalpindi</td>\n",
       "      <td>Cash on Delivery (COD)</td>\n",
       "      <td>1</td>\n",
       "      <td>200.0</td>\n",
       "      <td>2019</td>\n",
       "      <td>10</td>\n",
       "      <td>...</td>\n",
       "      <td>3</td>\n",
       "      <td>Thursday</td>\n",
       "      <td>3</td>\n",
       "      <td>0</td>\n",
       "      <td>40</td>\n",
       "      <td>4</td>\n",
       "      <td>2</td>\n",
       "      <td>16</td>\n",
       "      <td>42</td>\n",
       "      <td>0</td>\n",
       "    </tr>\n",
       "    <tr>\n",
       "      <th>4</th>\n",
       "      <td>311</td>\n",
       "      <td>Completed</td>\n",
       "      <td>Bit Coin Block Chain aur Crypto Currency بٹ کو...</td>\n",
       "      <td>2019-10-03 16:44:00</td>\n",
       "      <td>Karachi</td>\n",
       "      <td>Cash on Delivery (COD)</td>\n",
       "      <td>1</td>\n",
       "      <td>200.0</td>\n",
       "      <td>2019</td>\n",
       "      <td>10</td>\n",
       "      <td>...</td>\n",
       "      <td>3</td>\n",
       "      <td>Thursday</td>\n",
       "      <td>3</td>\n",
       "      <td>0</td>\n",
       "      <td>40</td>\n",
       "      <td>4</td>\n",
       "      <td>2</td>\n",
       "      <td>16</td>\n",
       "      <td>44</td>\n",
       "      <td>0</td>\n",
       "    </tr>\n",
       "    <tr>\n",
       "      <th>5</th>\n",
       "      <td>312</td>\n",
       "      <td>Completed</td>\n",
       "      <td>Bit Coin Block Chain aur Crypto Currency بٹ کو...</td>\n",
       "      <td>2019-10-03 18:17:00</td>\n",
       "      <td>FSD</td>\n",
       "      <td>Cash on Delivery (COD)</td>\n",
       "      <td>5</td>\n",
       "      <td>200.0</td>\n",
       "      <td>2019</td>\n",
       "      <td>10</td>\n",
       "      <td>...</td>\n",
       "      <td>3</td>\n",
       "      <td>Thursday</td>\n",
       "      <td>3</td>\n",
       "      <td>0</td>\n",
       "      <td>40</td>\n",
       "      <td>4</td>\n",
       "      <td>2</td>\n",
       "      <td>18</td>\n",
       "      <td>17</td>\n",
       "      <td>0</td>\n",
       "    </tr>\n",
       "  </tbody>\n",
       "</table>\n",
       "<p>5 rows × 21 columns</p>\n",
       "</div>"
      ],
      "text/plain": [
       "   Order Number Order Status  \\\n",
       "1           308    Completed   \n",
       "2           309    Completed   \n",
       "3           310    Cancelled   \n",
       "4           311    Completed   \n",
       "5           312    Completed   \n",
       "\n",
       "                                           Book Name   Order Date & Time  \\\n",
       "1                               Kaggle for Begginers 2019-10-03 15:54:00   \n",
       "2  Kaggle for Begginers/Bitcoin Blockchain aur Cr... 2019-10-03 16:09:00   \n",
       "3                               Kaggle for Begginers 2019-10-03 16:42:00   \n",
       "4  Bit Coin Block Chain aur Crypto Currency بٹ کو... 2019-10-03 16:44:00   \n",
       "5  Bit Coin Block Chain aur Crypto Currency بٹ کو... 2019-10-03 18:17:00   \n",
       "\n",
       "         City          Payment Method  Total items  Total weight (grams)  \\\n",
       "1  Rawalpindi  Cash on Delivery (COD)            1                 200.0   \n",
       "2   Hyderabad  Cash on Delivery (COD)            2                 200.0   \n",
       "3  Rawalpindi  Cash on Delivery (COD)            1                 200.0   \n",
       "4    Karachi   Cash on Delivery (COD)            1                 200.0   \n",
       "5         FSD  Cash on Delivery (COD)            5                 200.0   \n",
       "\n",
       "   order_year  order_month  ... order_day  order_day_name order_day_of_week  \\\n",
       "1        2019           10  ...         3        Thursday                 3   \n",
       "2        2019           10  ...         3        Thursday                 3   \n",
       "3        2019           10  ...         3        Thursday                 3   \n",
       "4        2019           10  ...         3        Thursday                 3   \n",
       "5        2019           10  ...         3        Thursday                 3   \n",
       "\n",
       "   order_day_is_weekend  order_week_of_the_year  order_quarter  \\\n",
       "1                     0                      40              4   \n",
       "2                     0                      40              4   \n",
       "3                     0                      40              4   \n",
       "4                     0                      40              4   \n",
       "5                     0                      40              4   \n",
       "\n",
       "   order_semester  order_hour  order_minutes  order_second  \n",
       "1               2          15             54             0  \n",
       "2               2          16              9             0  \n",
       "3               2          16             42             0  \n",
       "4               2          16             44             0  \n",
       "5               2          18             17             0  \n",
       "\n",
       "[5 rows x 21 columns]"
      ]
     },
     "execution_count": 44,
     "metadata": {},
     "output_type": "execute_result"
    }
   ],
   "source": [
    "df.head()"
   ]
  },
  {
   "cell_type": "code",
   "execution_count": 45,
   "metadata": {},
   "outputs": [],
   "source": [
    "df = df.drop(['Order Date & Time', 'Order Number'], axis = 1)"
   ]
  },
  {
   "cell_type": "code",
   "execution_count": 46,
   "metadata": {},
   "outputs": [
    {
     "data": {
      "text/html": [
       "<div>\n",
       "<style scoped>\n",
       "    .dataframe tbody tr th:only-of-type {\n",
       "        vertical-align: middle;\n",
       "    }\n",
       "\n",
       "    .dataframe tbody tr th {\n",
       "        vertical-align: top;\n",
       "    }\n",
       "\n",
       "    .dataframe thead th {\n",
       "        text-align: right;\n",
       "    }\n",
       "</style>\n",
       "<table border=\"1\" class=\"dataframe\">\n",
       "  <thead>\n",
       "    <tr style=\"text-align: right;\">\n",
       "      <th></th>\n",
       "      <th>Order Status</th>\n",
       "      <th>Book Name</th>\n",
       "      <th>City</th>\n",
       "      <th>Payment Method</th>\n",
       "      <th>Total items</th>\n",
       "      <th>Total weight (grams)</th>\n",
       "      <th>order_year</th>\n",
       "      <th>order_month</th>\n",
       "      <th>order_month_name</th>\n",
       "      <th>order_day</th>\n",
       "      <th>order_day_name</th>\n",
       "      <th>order_day_of_week</th>\n",
       "      <th>order_day_is_weekend</th>\n",
       "      <th>order_week_of_the_year</th>\n",
       "      <th>order_quarter</th>\n",
       "      <th>order_semester</th>\n",
       "      <th>order_hour</th>\n",
       "      <th>order_minutes</th>\n",
       "      <th>order_second</th>\n",
       "    </tr>\n",
       "  </thead>\n",
       "  <tbody>\n",
       "    <tr>\n",
       "      <th>1</th>\n",
       "      <td>Completed</td>\n",
       "      <td>Kaggle for Begginers</td>\n",
       "      <td>Rawalpindi</td>\n",
       "      <td>Cash on Delivery (COD)</td>\n",
       "      <td>1</td>\n",
       "      <td>200.0</td>\n",
       "      <td>2019</td>\n",
       "      <td>10</td>\n",
       "      <td>October</td>\n",
       "      <td>3</td>\n",
       "      <td>Thursday</td>\n",
       "      <td>3</td>\n",
       "      <td>0</td>\n",
       "      <td>40</td>\n",
       "      <td>4</td>\n",
       "      <td>2</td>\n",
       "      <td>15</td>\n",
       "      <td>54</td>\n",
       "      <td>0</td>\n",
       "    </tr>\n",
       "    <tr>\n",
       "      <th>2</th>\n",
       "      <td>Completed</td>\n",
       "      <td>Kaggle for Begginers/Bitcoin Blockchain aur Cr...</td>\n",
       "      <td>Hyderabad</td>\n",
       "      <td>Cash on Delivery (COD)</td>\n",
       "      <td>2</td>\n",
       "      <td>200.0</td>\n",
       "      <td>2019</td>\n",
       "      <td>10</td>\n",
       "      <td>October</td>\n",
       "      <td>3</td>\n",
       "      <td>Thursday</td>\n",
       "      <td>3</td>\n",
       "      <td>0</td>\n",
       "      <td>40</td>\n",
       "      <td>4</td>\n",
       "      <td>2</td>\n",
       "      <td>16</td>\n",
       "      <td>9</td>\n",
       "      <td>0</td>\n",
       "    </tr>\n",
       "    <tr>\n",
       "      <th>3</th>\n",
       "      <td>Cancelled</td>\n",
       "      <td>Kaggle for Begginers</td>\n",
       "      <td>Rawalpindi</td>\n",
       "      <td>Cash on Delivery (COD)</td>\n",
       "      <td>1</td>\n",
       "      <td>200.0</td>\n",
       "      <td>2019</td>\n",
       "      <td>10</td>\n",
       "      <td>October</td>\n",
       "      <td>3</td>\n",
       "      <td>Thursday</td>\n",
       "      <td>3</td>\n",
       "      <td>0</td>\n",
       "      <td>40</td>\n",
       "      <td>4</td>\n",
       "      <td>2</td>\n",
       "      <td>16</td>\n",
       "      <td>42</td>\n",
       "      <td>0</td>\n",
       "    </tr>\n",
       "    <tr>\n",
       "      <th>4</th>\n",
       "      <td>Completed</td>\n",
       "      <td>Bit Coin Block Chain aur Crypto Currency بٹ کو...</td>\n",
       "      <td>Karachi</td>\n",
       "      <td>Cash on Delivery (COD)</td>\n",
       "      <td>1</td>\n",
       "      <td>200.0</td>\n",
       "      <td>2019</td>\n",
       "      <td>10</td>\n",
       "      <td>October</td>\n",
       "      <td>3</td>\n",
       "      <td>Thursday</td>\n",
       "      <td>3</td>\n",
       "      <td>0</td>\n",
       "      <td>40</td>\n",
       "      <td>4</td>\n",
       "      <td>2</td>\n",
       "      <td>16</td>\n",
       "      <td>44</td>\n",
       "      <td>0</td>\n",
       "    </tr>\n",
       "    <tr>\n",
       "      <th>5</th>\n",
       "      <td>Completed</td>\n",
       "      <td>Bit Coin Block Chain aur Crypto Currency بٹ کو...</td>\n",
       "      <td>FSD</td>\n",
       "      <td>Cash on Delivery (COD)</td>\n",
       "      <td>5</td>\n",
       "      <td>200.0</td>\n",
       "      <td>2019</td>\n",
       "      <td>10</td>\n",
       "      <td>October</td>\n",
       "      <td>3</td>\n",
       "      <td>Thursday</td>\n",
       "      <td>3</td>\n",
       "      <td>0</td>\n",
       "      <td>40</td>\n",
       "      <td>4</td>\n",
       "      <td>2</td>\n",
       "      <td>18</td>\n",
       "      <td>17</td>\n",
       "      <td>0</td>\n",
       "    </tr>\n",
       "  </tbody>\n",
       "</table>\n",
       "</div>"
      ],
      "text/plain": [
       "  Order Status                                          Book Name        City  \\\n",
       "1    Completed                               Kaggle for Begginers  Rawalpindi   \n",
       "2    Completed  Kaggle for Begginers/Bitcoin Blockchain aur Cr...   Hyderabad   \n",
       "3    Cancelled                               Kaggle for Begginers  Rawalpindi   \n",
       "4    Completed  Bit Coin Block Chain aur Crypto Currency بٹ کو...    Karachi    \n",
       "5    Completed  Bit Coin Block Chain aur Crypto Currency بٹ کو...         FSD   \n",
       "\n",
       "           Payment Method  Total items  Total weight (grams)  order_year  \\\n",
       "1  Cash on Delivery (COD)            1                 200.0        2019   \n",
       "2  Cash on Delivery (COD)            2                 200.0        2019   \n",
       "3  Cash on Delivery (COD)            1                 200.0        2019   \n",
       "4  Cash on Delivery (COD)            1                 200.0        2019   \n",
       "5  Cash on Delivery (COD)            5                 200.0        2019   \n",
       "\n",
       "   order_month order_month_name  order_day order_day_name  order_day_of_week  \\\n",
       "1           10          October          3       Thursday                  3   \n",
       "2           10          October          3       Thursday                  3   \n",
       "3           10          October          3       Thursday                  3   \n",
       "4           10          October          3       Thursday                  3   \n",
       "5           10          October          3       Thursday                  3   \n",
       "\n",
       "   order_day_is_weekend  order_week_of_the_year  order_quarter  \\\n",
       "1                     0                      40              4   \n",
       "2                     0                      40              4   \n",
       "3                     0                      40              4   \n",
       "4                     0                      40              4   \n",
       "5                     0                      40              4   \n",
       "\n",
       "   order_semester  order_hour  order_minutes  order_second  \n",
       "1               2          15             54             0  \n",
       "2               2          16              9             0  \n",
       "3               2          16             42             0  \n",
       "4               2          16             44             0  \n",
       "5               2          18             17             0  "
      ]
     },
     "execution_count": 46,
     "metadata": {},
     "output_type": "execute_result"
    }
   ],
   "source": [
    "df.head()"
   ]
  },
  {
   "cell_type": "markdown",
   "metadata": {},
   "source": [
    "## 1. How many Book Orders in Each Month "
   ]
  },
  {
   "cell_type": "code",
   "execution_count": 47,
   "metadata": {},
   "outputs": [],
   "source": [
    "# df['order_month_name'].unique()"
   ]
  },
  {
   "cell_type": "code",
   "execution_count": 48,
   "metadata": {},
   "outputs": [
    {
     "data": {
      "text/plain": [
       "<AxesSubplot:xlabel='count', ylabel='order_month_name'>"
      ]
     },
     "execution_count": 48,
     "metadata": {},
     "output_type": "execute_result"
    },
    {
     "data": {
      "image/png": "[encoded data removed]",
      "text/plain": [
       "<Figure size 720x576 with 1 Axes>"
      ]
     },
     "metadata": {
      "needs_background": "light"
     },
     "output_type": "display_data"
    }
   ],
   "source": [
    "plt.figure(figsize = (10, 8))\n",
    "sns.countplot(y = df['order_month_name'])"
   ]
  },
  {
   "cell_type": "markdown",
   "metadata": {},
   "source": [
    "## 2. How many Book Orders in Each Day "
   ]
  },
  {
   "cell_type": "code",
   "execution_count": 49,
   "metadata": {},
   "outputs": [
    {
     "data": {
      "text/plain": [
       "array(['Thursday', 'Tuesday', 'Wednesday', 'Friday', 'Saturday', 'Sunday',\n",
       "       'Monday'], dtype=object)"
      ]
     },
     "execution_count": 49,
     "metadata": {},
     "output_type": "execute_result"
    }
   ],
   "source": [
    "df['order_day_name'].unique()"
   ]
  },
  {
   "cell_type": "code",
   "execution_count": 50,
   "metadata": {},
   "outputs": [
    {
     "data": {
      "text/plain": [
       "<AxesSubplot:xlabel='count', ylabel='order_day_name'>"
      ]
     },
     "execution_count": 50,
     "metadata": {},
     "output_type": "execute_result"
    },
    {
     "data": {
      "image/png": "[encoded data removed]",
      "text/plain": [
       "<Figure size 720x576 with 1 Axes>"
      ]
     },
     "metadata": {
      "needs_background": "light"
     },
     "output_type": "display_data"
    }
   ],
   "source": [
    "plt.figure(figsize = (10, 8))\n",
    "sns.countplot(y = df['order_day_name'])"
   ]
  },
  {
   "cell_type": "markdown",
   "metadata": {},
   "source": [
    "## 3. How many Book Orders in Each Year "
   ]
  },
  {
   "cell_type": "code",
   "execution_count": 51,
   "metadata": {},
   "outputs": [
    {
     "data": {
      "text/plain": [
       "array([2019, 2020, 2021], dtype=int64)"
      ]
     },
     "execution_count": 51,
     "metadata": {},
     "output_type": "execute_result"
    }
   ],
   "source": [
    "df['order_year'].unique()"
   ]
  },
  {
   "cell_type": "code",
   "execution_count": 52,
   "metadata": {},
   "outputs": [
    {
     "data": {
      "text/plain": [
       "<AxesSubplot:xlabel='order_year', ylabel='count'>"
      ]
     },
     "execution_count": 52,
     "metadata": {},
     "output_type": "execute_result"
    },
    {
     "data": {
      "image/png": "[encoded data removed]",
      "text/plain": [
       "<Figure size 720x576 with 1 Axes>"
      ]
     },
     "metadata": {
      "needs_background": "light"
     },
     "output_type": "display_data"
    }
   ],
   "source": [
    "plt.figure(figsize = (10, 8))\n",
    "sns.countplot(x = df['order_year'])"
   ]
  },
  {
   "cell_type": "markdown",
   "metadata": {},
   "source": [
    "## 4. How many Book Orders in Each Date "
   ]
  },
  {
   "cell_type": "code",
   "execution_count": 53,
   "metadata": {},
   "outputs": [
    {
     "data": {
      "text/plain": [
       "array([ 3, 12, 13, 14, 15, 16, 17, 18, 19, 21, 22, 25, 27, 28, 30,  1,  2,\n",
       "        4,  5,  6,  7,  8,  9, 11, 20, 23, 24, 26, 29, 31, 10],\n",
       "      dtype=int64)"
      ]
     },
     "execution_count": 53,
     "metadata": {},
     "output_type": "execute_result"
    }
   ],
   "source": [
    "df['order_day'].unique()"
   ]
  },
  {
   "cell_type": "code",
   "execution_count": 54,
   "metadata": {},
   "outputs": [
    {
     "data": {
      "text/plain": [
       "<AxesSubplot:xlabel='count', ylabel='order_day'>"
      ]
     },
     "execution_count": 54,
     "metadata": {},
     "output_type": "execute_result"
    },
    {
     "data": {
      "image/png": "[encoded data removed]",
      "text/plain": [
       "<Figure size 720x1008 with 1 Axes>"
      ]
     },
     "metadata": {
      "needs_background": "light"
     },
     "output_type": "display_data"
    }
   ],
   "source": [
    "plt.figure(figsize = (10, 14))\n",
    "sns.countplot(y = df['order_day'])"
   ]
  },
  {
   "cell_type": "code",
   "execution_count": 55,
   "metadata": {},
   "outputs": [
    {
     "data": {
      "text/html": [
       "<div>\n",
       "<style scoped>\n",
       "    .dataframe tbody tr th:only-of-type {\n",
       "        vertical-align: middle;\n",
       "    }\n",
       "\n",
       "    .dataframe tbody tr th {\n",
       "        vertical-align: top;\n",
       "    }\n",
       "\n",
       "    .dataframe thead th {\n",
       "        text-align: right;\n",
       "    }\n",
       "</style>\n",
       "<table border=\"1\" class=\"dataframe\">\n",
       "  <thead>\n",
       "    <tr style=\"text-align: right;\">\n",
       "      <th></th>\n",
       "      <th>Order Status</th>\n",
       "      <th>Book Name</th>\n",
       "      <th>City</th>\n",
       "      <th>Payment Method</th>\n",
       "      <th>Total items</th>\n",
       "      <th>Total weight (grams)</th>\n",
       "      <th>order_year</th>\n",
       "      <th>order_month</th>\n",
       "      <th>order_month_name</th>\n",
       "      <th>order_day</th>\n",
       "      <th>order_day_name</th>\n",
       "      <th>order_day_of_week</th>\n",
       "      <th>order_day_is_weekend</th>\n",
       "      <th>order_week_of_the_year</th>\n",
       "      <th>order_quarter</th>\n",
       "      <th>order_semester</th>\n",
       "      <th>order_hour</th>\n",
       "      <th>order_minutes</th>\n",
       "      <th>order_second</th>\n",
       "    </tr>\n",
       "  </thead>\n",
       "  <tbody>\n",
       "    <tr>\n",
       "      <th>1</th>\n",
       "      <td>Completed</td>\n",
       "      <td>Kaggle for Begginers</td>\n",
       "      <td>Rawalpindi</td>\n",
       "      <td>Cash on Delivery (COD)</td>\n",
       "      <td>1</td>\n",
       "      <td>200.0</td>\n",
       "      <td>2019</td>\n",
       "      <td>10</td>\n",
       "      <td>October</td>\n",
       "      <td>3</td>\n",
       "      <td>Thursday</td>\n",
       "      <td>3</td>\n",
       "      <td>0</td>\n",
       "      <td>40</td>\n",
       "      <td>4</td>\n",
       "      <td>2</td>\n",
       "      <td>15</td>\n",
       "      <td>54</td>\n",
       "      <td>0</td>\n",
       "    </tr>\n",
       "    <tr>\n",
       "      <th>2</th>\n",
       "      <td>Completed</td>\n",
       "      <td>Kaggle for Begginers/Bitcoin Blockchain aur Cr...</td>\n",
       "      <td>Hyderabad</td>\n",
       "      <td>Cash on Delivery (COD)</td>\n",
       "      <td>2</td>\n",
       "      <td>200.0</td>\n",
       "      <td>2019</td>\n",
       "      <td>10</td>\n",
       "      <td>October</td>\n",
       "      <td>3</td>\n",
       "      <td>Thursday</td>\n",
       "      <td>3</td>\n",
       "      <td>0</td>\n",
       "      <td>40</td>\n",
       "      <td>4</td>\n",
       "      <td>2</td>\n",
       "      <td>16</td>\n",
       "      <td>9</td>\n",
       "      <td>0</td>\n",
       "    </tr>\n",
       "    <tr>\n",
       "      <th>3</th>\n",
       "      <td>Cancelled</td>\n",
       "      <td>Kaggle for Begginers</td>\n",
       "      <td>Rawalpindi</td>\n",
       "      <td>Cash on Delivery (COD)</td>\n",
       "      <td>1</td>\n",
       "      <td>200.0</td>\n",
       "      <td>2019</td>\n",
       "      <td>10</td>\n",
       "      <td>October</td>\n",
       "      <td>3</td>\n",
       "      <td>Thursday</td>\n",
       "      <td>3</td>\n",
       "      <td>0</td>\n",
       "      <td>40</td>\n",
       "      <td>4</td>\n",
       "      <td>2</td>\n",
       "      <td>16</td>\n",
       "      <td>42</td>\n",
       "      <td>0</td>\n",
       "    </tr>\n",
       "    <tr>\n",
       "      <th>4</th>\n",
       "      <td>Completed</td>\n",
       "      <td>Bit Coin Block Chain aur Crypto Currency بٹ کو...</td>\n",
       "      <td>Karachi</td>\n",
       "      <td>Cash on Delivery (COD)</td>\n",
       "      <td>1</td>\n",
       "      <td>200.0</td>\n",
       "      <td>2019</td>\n",
       "      <td>10</td>\n",
       "      <td>October</td>\n",
       "      <td>3</td>\n",
       "      <td>Thursday</td>\n",
       "      <td>3</td>\n",
       "      <td>0</td>\n",
       "      <td>40</td>\n",
       "      <td>4</td>\n",
       "      <td>2</td>\n",
       "      <td>16</td>\n",
       "      <td>44</td>\n",
       "      <td>0</td>\n",
       "    </tr>\n",
       "    <tr>\n",
       "      <th>5</th>\n",
       "      <td>Completed</td>\n",
       "      <td>Bit Coin Block Chain aur Crypto Currency بٹ کو...</td>\n",
       "      <td>FSD</td>\n",
       "      <td>Cash on Delivery (COD)</td>\n",
       "      <td>5</td>\n",
       "      <td>200.0</td>\n",
       "      <td>2019</td>\n",
       "      <td>10</td>\n",
       "      <td>October</td>\n",
       "      <td>3</td>\n",
       "      <td>Thursday</td>\n",
       "      <td>3</td>\n",
       "      <td>0</td>\n",
       "      <td>40</td>\n",
       "      <td>4</td>\n",
       "      <td>2</td>\n",
       "      <td>18</td>\n",
       "      <td>17</td>\n",
       "      <td>0</td>\n",
       "    </tr>\n",
       "  </tbody>\n",
       "</table>\n",
       "</div>"
      ],
      "text/plain": [
       "  Order Status                                          Book Name        City  \\\n",
       "1    Completed                               Kaggle for Begginers  Rawalpindi   \n",
       "2    Completed  Kaggle for Begginers/Bitcoin Blockchain aur Cr...   Hyderabad   \n",
       "3    Cancelled                               Kaggle for Begginers  Rawalpindi   \n",
       "4    Completed  Bit Coin Block Chain aur Crypto Currency بٹ کو...    Karachi    \n",
       "5    Completed  Bit Coin Block Chain aur Crypto Currency بٹ کو...         FSD   \n",
       "\n",
       "           Payment Method  Total items  Total weight (grams)  order_year  \\\n",
       "1  Cash on Delivery (COD)            1                 200.0        2019   \n",
       "2  Cash on Delivery (COD)            2                 200.0        2019   \n",
       "3  Cash on Delivery (COD)            1                 200.0        2019   \n",
       "4  Cash on Delivery (COD)            1                 200.0        2019   \n",
       "5  Cash on Delivery (COD)            5                 200.0        2019   \n",
       "\n",
       "   order_month order_month_name  order_day order_day_name  order_day_of_week  \\\n",
       "1           10          October          3       Thursday                  3   \n",
       "2           10          October          3       Thursday                  3   \n",
       "3           10          October          3       Thursday                  3   \n",
       "4           10          October          3       Thursday                  3   \n",
       "5           10          October          3       Thursday                  3   \n",
       "\n",
       "   order_day_is_weekend  order_week_of_the_year  order_quarter  \\\n",
       "1                     0                      40              4   \n",
       "2                     0                      40              4   \n",
       "3                     0                      40              4   \n",
       "4                     0                      40              4   \n",
       "5                     0                      40              4   \n",
       "\n",
       "   order_semester  order_hour  order_minutes  order_second  \n",
       "1               2          15             54             0  \n",
       "2               2          16              9             0  \n",
       "3               2          16             42             0  \n",
       "4               2          16             44             0  \n",
       "5               2          18             17             0  "
      ]
     },
     "execution_count": 55,
     "metadata": {},
     "output_type": "execute_result"
    }
   ],
   "source": [
    "df.head()"
   ]
  },
  {
   "cell_type": "markdown",
   "metadata": {},
   "source": [
    "## 5. How many Book Orders in Each Week "
   ]
  },
  {
   "cell_type": "code",
   "execution_count": 56,
   "metadata": {},
   "outputs": [
    {
     "data": {
      "text/plain": [
       "array([3, 1, 2, 4, 5, 6, 0], dtype=int64)"
      ]
     },
     "execution_count": 56,
     "metadata": {},
     "output_type": "execute_result"
    }
   ],
   "source": [
    "df['order_day_of_week'].unique()"
   ]
  },
  {
   "cell_type": "code",
   "execution_count": 57,
   "metadata": {},
   "outputs": [
    {
     "name": "stderr",
     "output_type": "stream",
     "text": [
      "C:\\Users\\Chacha Tech\\anaconda3\\lib\\site-packages\\seaborn\\_decorators.py:36: FutureWarning: Pass the following variable as a keyword arg: x. From version 0.12, the only valid positional argument will be `data`, and passing other arguments without an explicit keyword will result in an error or misinterpretation.\n",
      "  warnings.warn(\n"
     ]
    },
    {
     "data": {
      "text/plain": [
       "<AxesSubplot:xlabel='order_day_of_week', ylabel='count'>"
      ]
     },
     "execution_count": 57,
     "metadata": {},
     "output_type": "execute_result"
    },
    {
     "data": {
      "image/png": "[encoded data removed]",
      "text/plain": [
       "<Figure size 720x1008 with 1 Axes>"
      ]
     },
     "metadata": {
      "needs_background": "light"
     },
     "output_type": "display_data"
    }
   ],
   "source": [
    "plt.figure(figsize = (10, 14))\n",
    "sns.countplot(df['order_day_of_week'])"
   ]
  },
  {
   "cell_type": "markdown",
   "metadata": {},
   "source": [
    "## 6. How many Book Orders in Weekend "
   ]
  },
  {
   "cell_type": "code",
   "execution_count": 58,
   "metadata": {},
   "outputs": [
    {
     "data": {
      "text/plain": [
       "array([0, 1])"
      ]
     },
     "execution_count": 58,
     "metadata": {},
     "output_type": "execute_result"
    }
   ],
   "source": [
    "df['order_day_is_weekend'].unique()"
   ]
  },
  {
   "cell_type": "code",
   "execution_count": 59,
   "metadata": {},
   "outputs": [
    {
     "name": "stderr",
     "output_type": "stream",
     "text": [
      "C:\\Users\\Chacha Tech\\anaconda3\\lib\\site-packages\\seaborn\\_decorators.py:36: FutureWarning: Pass the following variable as a keyword arg: x. From version 0.12, the only valid positional argument will be `data`, and passing other arguments without an explicit keyword will result in an error or misinterpretation.\n",
      "  warnings.warn(\n"
     ]
    },
    {
     "data": {
      "text/plain": [
       "<AxesSubplot:xlabel='order_day_is_weekend', ylabel='count'>"
      ]
     },
     "execution_count": 59,
     "metadata": {},
     "output_type": "execute_result"
    },
    {
     "data": {
      "image/png": "[encoded data removed]",
      "text/plain": [
       "<Figure size 576x576 with 1 Axes>"
      ]
     },
     "metadata": {
      "needs_background": "light"
     },
     "output_type": "display_data"
    }
   ],
   "source": [
    "plt.figure(figsize = (8, 8))\n",
    "sns.countplot(df['order_day_is_weekend'])"
   ]
  },
  {
   "cell_type": "code",
   "execution_count": 60,
   "metadata": {},
   "outputs": [
    {
     "data": {
      "text/plain": [
       "Index(['Order Status', 'Book Name', 'City', 'Payment Method', 'Total items',\n",
       "       'Total weight (grams)', 'order_year', 'order_month', 'order_month_name',\n",
       "       'order_day', 'order_day_name', 'order_day_of_week',\n",
       "       'order_day_is_weekend', 'order_week_of_the_year', 'order_quarter',\n",
       "       'order_semester', 'order_hour', 'order_minutes', 'order_second'],\n",
       "      dtype='object')"
      ]
     },
     "execution_count": 60,
     "metadata": {},
     "output_type": "execute_result"
    }
   ],
   "source": [
    "df.columns"
   ]
  },
  {
   "cell_type": "markdown",
   "metadata": {},
   "source": [
    "## 7. How many Book Orders in Each Year of the Week. 54 Weeks in Each Year.  "
   ]
  },
  {
   "cell_type": "code",
   "execution_count": 61,
   "metadata": {},
   "outputs": [
    {
     "data": {
      "text/plain": [
       "array([40, 46, 47, 48, 49, 50, 51, 52,  1,  2,  3,  4,  5,  6,  7,  8,  9,\n",
       "       10, 11, 12, 13, 14, 15, 16, 17, 18, 19, 20, 21, 22, 23, 24, 25, 26,\n",
       "       27, 28, 29, 30, 31, 32, 33, 34, 35, 36, 37, 38, 39, 41, 42, 43, 44,\n",
       "       45, 53], dtype=int64)"
      ]
     },
     "execution_count": 61,
     "metadata": {},
     "output_type": "execute_result"
    }
   ],
   "source": [
    "df['order_week_of_the_year'].unique()"
   ]
  },
  {
   "cell_type": "code",
   "execution_count": 62,
   "metadata": {},
   "outputs": [
    {
     "data": {
      "text/plain": [
       "<AxesSubplot:xlabel='count', ylabel='order_week_of_the_year'>"
      ]
     },
     "execution_count": 62,
     "metadata": {},
     "output_type": "execute_result"
    },
    {
     "data": {
      "image/png": "[encoded data removed]",
      "text/plain": [
       "<Figure size 864x1440 with 1 Axes>"
      ]
     },
     "metadata": {
      "needs_background": "light"
     },
     "output_type": "display_data"
    }
   ],
   "source": [
    "plt.figure(figsize = (12, 20))\n",
    "sns.countplot(y = df['order_week_of_the_year'])"
   ]
  },
  {
   "cell_type": "markdown",
   "metadata": {},
   "source": [
    "## 8. How many Book Orders in Each Quarter . 4 Quarters in One Year."
   ]
  },
  {
   "cell_type": "code",
   "execution_count": 63,
   "metadata": {},
   "outputs": [
    {
     "data": {
      "text/plain": [
       "array([4, 1, 2, 3], dtype=int64)"
      ]
     },
     "execution_count": 63,
     "metadata": {},
     "output_type": "execute_result"
    }
   ],
   "source": [
    "df['order_quarter'].unique()"
   ]
  },
  {
   "cell_type": "code",
   "execution_count": 64,
   "metadata": {},
   "outputs": [
    {
     "name": "stderr",
     "output_type": "stream",
     "text": [
      "C:\\Users\\Chacha Tech\\anaconda3\\lib\\site-packages\\seaborn\\_decorators.py:36: FutureWarning: Pass the following variable as a keyword arg: x. From version 0.12, the only valid positional argument will be `data`, and passing other arguments without an explicit keyword will result in an error or misinterpretation.\n",
      "  warnings.warn(\n"
     ]
    },
    {
     "data": {
      "text/plain": [
       "<AxesSubplot:xlabel='order_quarter', ylabel='count'>"
      ]
     },
     "execution_count": 64,
     "metadata": {},
     "output_type": "execute_result"
    },
    {
     "data": {
      "image/png": "[encoded data removed]",
      "text/plain": [
       "<Figure size 864x576 with 1 Axes>"
      ]
     },
     "metadata": {
      "needs_background": "light"
     },
     "output_type": "display_data"
    }
   ],
   "source": [
    "plt.figure(figsize = (12, 8))\n",
    "sns.countplot(df['order_quarter'])"
   ]
  },
  {
   "cell_type": "markdown",
   "metadata": {},
   "source": [
    "## 9. How many Book Orders in Each Semester. 2 Semester in One year. "
   ]
  },
  {
   "cell_type": "code",
   "execution_count": 65,
   "metadata": {},
   "outputs": [
    {
     "data": {
      "text/plain": [
       "array([2, 1])"
      ]
     },
     "execution_count": 65,
     "metadata": {},
     "output_type": "execute_result"
    }
   ],
   "source": [
    "df['order_semester'].unique()"
   ]
  },
  {
   "cell_type": "code",
   "execution_count": 66,
   "metadata": {},
   "outputs": [
    {
     "name": "stderr",
     "output_type": "stream",
     "text": [
      "C:\\Users\\Chacha Tech\\anaconda3\\lib\\site-packages\\seaborn\\_decorators.py:36: FutureWarning: Pass the following variable as a keyword arg: x. From version 0.12, the only valid positional argument will be `data`, and passing other arguments without an explicit keyword will result in an error or misinterpretation.\n",
      "  warnings.warn(\n"
     ]
    },
    {
     "data": {
      "text/plain": [
       "<AxesSubplot:xlabel='order_semester', ylabel='count'>"
      ]
     },
     "execution_count": 66,
     "metadata": {},
     "output_type": "execute_result"
    },
    {
     "data": {
      "image/png": "[encoded data removed]",
      "text/plain": [
       "<Figure size 720x432 with 1 Axes>"
      ]
     },
     "metadata": {
      "needs_background": "light"
     },
     "output_type": "display_data"
    }
   ],
   "source": [
    "plt.figure(figsize = (10, 6))\n",
    "sns.countplot(df['order_semester'])"
   ]
  },
  {
   "cell_type": "markdown",
   "metadata": {},
   "source": [
    "## 10. How many Book Orders in Each Hour . 24 Hours in one Day."
   ]
  },
  {
   "cell_type": "code",
   "execution_count": 67,
   "metadata": {},
   "outputs": [
    {
     "data": {
      "text/plain": [
       "array([15, 16, 18, 19, 20, 12, 14, 17,  6,  2, 22, 23,  1,  4, 11, 21,  7,\n",
       "       13,  0, 10,  3,  5,  9,  8], dtype=int64)"
      ]
     },
     "execution_count": 67,
     "metadata": {},
     "output_type": "execute_result"
    }
   ],
   "source": [
    "df['order_hour'].unique()"
   ]
  },
  {
   "cell_type": "code",
   "execution_count": 68,
   "metadata": {},
   "outputs": [
    {
     "name": "stderr",
     "output_type": "stream",
     "text": [
      "C:\\Users\\Chacha Tech\\anaconda3\\lib\\site-packages\\seaborn\\_decorators.py:36: FutureWarning: Pass the following variable as a keyword arg: x. From version 0.12, the only valid positional argument will be `data`, and passing other arguments without an explicit keyword will result in an error or misinterpretation.\n",
      "  warnings.warn(\n"
     ]
    },
    {
     "data": {
      "text/plain": [
       "<AxesSubplot:xlabel='order_hour', ylabel='count'>"
      ]
     },
     "execution_count": 68,
     "metadata": {},
     "output_type": "execute_result"
    },
    {
     "data": {
      "image/png": "[encoded data removed]",
      "text/plain": [
       "<Figure size 720x576 with 1 Axes>"
      ]
     },
     "metadata": {
      "needs_background": "light"
     },
     "output_type": "display_data"
    }
   ],
   "source": [
    "plt.figure(figsize = (10, 8))\n",
    "sns.countplot(df['order_hour'])"
   ]
  },
  {
   "cell_type": "markdown",
   "metadata": {},
   "source": [
    "## 11. How many Book Orders in Each Minute. 60 Minutes in 1 Hour. "
   ]
  },
  {
   "cell_type": "code",
   "execution_count": 69,
   "metadata": {},
   "outputs": [
    {
     "data": {
      "text/plain": [
       "array([54,  9, 42, 44, 17, 34, 27, 40, 30, 38,  4, 49,  8, 32, 43, 11, 22,\n",
       "       10, 55,  0, 24, 35, 29, 21, 45, 19, 28, 58, 15, 14, 51, 59, 20,  1,\n",
       "       50, 53,  6, 12, 18, 31, 37, 39, 46, 52, 57,  3,  5, 16, 33, 47, 48,\n",
       "        2, 13, 23, 25, 56,  7, 41, 26, 36], dtype=int64)"
      ]
     },
     "execution_count": 69,
     "metadata": {},
     "output_type": "execute_result"
    }
   ],
   "source": [
    "df['order_minutes'].unique()"
   ]
  },
  {
   "cell_type": "code",
   "execution_count": 70,
   "metadata": {},
   "outputs": [
    {
     "data": {
      "text/plain": [
       "<AxesSubplot:xlabel='count', ylabel='order_minutes'>"
      ]
     },
     "execution_count": 70,
     "metadata": {},
     "output_type": "execute_result"
    },
    {
     "data": {
      "image/png": "[encoded data removed]",
      "text/plain": [
       "<Figure size 1008x1728 with 1 Axes>"
      ]
     },
     "metadata": {
      "needs_background": "light"
     },
     "output_type": "display_data"
    }
   ],
   "source": [
    "plt.figure(figsize = (14, 24))\n",
    "sns.countplot(y = df['order_minutes'])"
   ]
  },
  {
   "cell_type": "code",
   "execution_count": 71,
   "metadata": {},
   "outputs": [
    {
     "data": {
      "text/html": [
       "<div>\n",
       "<style scoped>\n",
       "    .dataframe tbody tr th:only-of-type {\n",
       "        vertical-align: middle;\n",
       "    }\n",
       "\n",
       "    .dataframe tbody tr th {\n",
       "        vertical-align: top;\n",
       "    }\n",
       "\n",
       "    .dataframe thead th {\n",
       "        text-align: right;\n",
       "    }\n",
       "</style>\n",
       "<table border=\"1\" class=\"dataframe\">\n",
       "  <thead>\n",
       "    <tr style=\"text-align: right;\">\n",
       "      <th></th>\n",
       "      <th>Order Status</th>\n",
       "      <th>Book Name</th>\n",
       "      <th>City</th>\n",
       "      <th>Payment Method</th>\n",
       "      <th>Total items</th>\n",
       "      <th>Total weight (grams)</th>\n",
       "      <th>order_year</th>\n",
       "      <th>order_month</th>\n",
       "      <th>order_month_name</th>\n",
       "      <th>order_day</th>\n",
       "      <th>order_day_name</th>\n",
       "      <th>order_day_of_week</th>\n",
       "      <th>order_day_is_weekend</th>\n",
       "      <th>order_week_of_the_year</th>\n",
       "      <th>order_quarter</th>\n",
       "      <th>order_semester</th>\n",
       "      <th>order_hour</th>\n",
       "      <th>order_minutes</th>\n",
       "      <th>order_second</th>\n",
       "    </tr>\n",
       "  </thead>\n",
       "  <tbody>\n",
       "    <tr>\n",
       "      <th>1</th>\n",
       "      <td>Completed</td>\n",
       "      <td>Kaggle for Begginers</td>\n",
       "      <td>Rawalpindi</td>\n",
       "      <td>Cash on Delivery (COD)</td>\n",
       "      <td>1</td>\n",
       "      <td>200.0</td>\n",
       "      <td>2019</td>\n",
       "      <td>10</td>\n",
       "      <td>October</td>\n",
       "      <td>3</td>\n",
       "      <td>Thursday</td>\n",
       "      <td>3</td>\n",
       "      <td>0</td>\n",
       "      <td>40</td>\n",
       "      <td>4</td>\n",
       "      <td>2</td>\n",
       "      <td>15</td>\n",
       "      <td>54</td>\n",
       "      <td>0</td>\n",
       "    </tr>\n",
       "    <tr>\n",
       "      <th>2</th>\n",
       "      <td>Completed</td>\n",
       "      <td>Kaggle for Begginers/Bitcoin Blockchain aur Cr...</td>\n",
       "      <td>Hyderabad</td>\n",
       "      <td>Cash on Delivery (COD)</td>\n",
       "      <td>2</td>\n",
       "      <td>200.0</td>\n",
       "      <td>2019</td>\n",
       "      <td>10</td>\n",
       "      <td>October</td>\n",
       "      <td>3</td>\n",
       "      <td>Thursday</td>\n",
       "      <td>3</td>\n",
       "      <td>0</td>\n",
       "      <td>40</td>\n",
       "      <td>4</td>\n",
       "      <td>2</td>\n",
       "      <td>16</td>\n",
       "      <td>9</td>\n",
       "      <td>0</td>\n",
       "    </tr>\n",
       "    <tr>\n",
       "      <th>3</th>\n",
       "      <td>Cancelled</td>\n",
       "      <td>Kaggle for Begginers</td>\n",
       "      <td>Rawalpindi</td>\n",
       "      <td>Cash on Delivery (COD)</td>\n",
       "      <td>1</td>\n",
       "      <td>200.0</td>\n",
       "      <td>2019</td>\n",
       "      <td>10</td>\n",
       "      <td>October</td>\n",
       "      <td>3</td>\n",
       "      <td>Thursday</td>\n",
       "      <td>3</td>\n",
       "      <td>0</td>\n",
       "      <td>40</td>\n",
       "      <td>4</td>\n",
       "      <td>2</td>\n",
       "      <td>16</td>\n",
       "      <td>42</td>\n",
       "      <td>0</td>\n",
       "    </tr>\n",
       "    <tr>\n",
       "      <th>4</th>\n",
       "      <td>Completed</td>\n",
       "      <td>Bit Coin Block Chain aur Crypto Currency بٹ کو...</td>\n",
       "      <td>Karachi</td>\n",
       "      <td>Cash on Delivery (COD)</td>\n",
       "      <td>1</td>\n",
       "      <td>200.0</td>\n",
       "      <td>2019</td>\n",
       "      <td>10</td>\n",
       "      <td>October</td>\n",
       "      <td>3</td>\n",
       "      <td>Thursday</td>\n",
       "      <td>3</td>\n",
       "      <td>0</td>\n",
       "      <td>40</td>\n",
       "      <td>4</td>\n",
       "      <td>2</td>\n",
       "      <td>16</td>\n",
       "      <td>44</td>\n",
       "      <td>0</td>\n",
       "    </tr>\n",
       "    <tr>\n",
       "      <th>5</th>\n",
       "      <td>Completed</td>\n",
       "      <td>Bit Coin Block Chain aur Crypto Currency بٹ کو...</td>\n",
       "      <td>FSD</td>\n",
       "      <td>Cash on Delivery (COD)</td>\n",
       "      <td>5</td>\n",
       "      <td>200.0</td>\n",
       "      <td>2019</td>\n",
       "      <td>10</td>\n",
       "      <td>October</td>\n",
       "      <td>3</td>\n",
       "      <td>Thursday</td>\n",
       "      <td>3</td>\n",
       "      <td>0</td>\n",
       "      <td>40</td>\n",
       "      <td>4</td>\n",
       "      <td>2</td>\n",
       "      <td>18</td>\n",
       "      <td>17</td>\n",
       "      <td>0</td>\n",
       "    </tr>\n",
       "  </tbody>\n",
       "</table>\n",
       "</div>"
      ],
      "text/plain": [
       "  Order Status                                          Book Name        City  \\\n",
       "1    Completed                               Kaggle for Begginers  Rawalpindi   \n",
       "2    Completed  Kaggle for Begginers/Bitcoin Blockchain aur Cr...   Hyderabad   \n",
       "3    Cancelled                               Kaggle for Begginers  Rawalpindi   \n",
       "4    Completed  Bit Coin Block Chain aur Crypto Currency بٹ کو...    Karachi    \n",
       "5    Completed  Bit Coin Block Chain aur Crypto Currency بٹ کو...         FSD   \n",
       "\n",
       "           Payment Method  Total items  Total weight (grams)  order_year  \\\n",
       "1  Cash on Delivery (COD)            1                 200.0        2019   \n",
       "2  Cash on Delivery (COD)            2                 200.0        2019   \n",
       "3  Cash on Delivery (COD)            1                 200.0        2019   \n",
       "4  Cash on Delivery (COD)            1                 200.0        2019   \n",
       "5  Cash on Delivery (COD)            5                 200.0        2019   \n",
       "\n",
       "   order_month order_month_name  order_day order_day_name  order_day_of_week  \\\n",
       "1           10          October          3       Thursday                  3   \n",
       "2           10          October          3       Thursday                  3   \n",
       "3           10          October          3       Thursday                  3   \n",
       "4           10          October          3       Thursday                  3   \n",
       "5           10          October          3       Thursday                  3   \n",
       "\n",
       "   order_day_is_weekend  order_week_of_the_year  order_quarter  \\\n",
       "1                     0                      40              4   \n",
       "2                     0                      40              4   \n",
       "3                     0                      40              4   \n",
       "4                     0                      40              4   \n",
       "5                     0                      40              4   \n",
       "\n",
       "   order_semester  order_hour  order_minutes  order_second  \n",
       "1               2          15             54             0  \n",
       "2               2          16              9             0  \n",
       "3               2          16             42             0  \n",
       "4               2          16             44             0  \n",
       "5               2          18             17             0  "
      ]
     },
     "execution_count": 71,
     "metadata": {},
     "output_type": "execute_result"
    }
   ],
   "source": [
    "df.head()"
   ]
  },
  {
   "cell_type": "code",
   "execution_count": 72,
   "metadata": {},
   "outputs": [
    {
     "data": {
      "text/plain": [
       "array(['Kaggle for Begginers',\n",
       "       'Kaggle for Begginers/Bitcoin Blockchain aur Crypto Currency - FREE E-Book',\n",
       "       'Bit Coin Block Chain aur Crypto Currency بٹ کوائن، بلاک چین اور کرپٹو کرنسی',\n",
       "       ...,\n",
       "       'Blockchain, Cryptocurrency And Bitcoin/Column Nigari Kese Sekhain',\n",
       "       'مشین لرننگ/ڈیٹا سائنس/Artificial Intelligence/Blockchain, Cryptocurrency And Bitcoin/Python Programming/انٹرنیٹ سے پیسہ کمائیں/R ka Taaruf/Introduction to Blockchain with Case Studies/Linux - An Introduction/Kaggle for Begginers',\n",
       "       'Linux - An Introduction/Python Programming/Kaggle for Begginers/Artificial Intelligence/ایک تھا الگورتھم/R ka Taaruf/مشین لرننگ'],\n",
       "      dtype=object)"
      ]
     },
     "execution_count": 72,
     "metadata": {},
     "output_type": "execute_result"
    }
   ],
   "source": [
    "df['Book Name'].unique()"
   ]
  },
  {
   "cell_type": "code",
   "execution_count": 73,
   "metadata": {},
   "outputs": [
    {
     "data": {
      "text/plain": [
       "انٹرنیٹ سے پیسہ کمائیں                                                                                                                           2579\n",
       "Python Programming                                                                                                                               1540\n",
       "Blockchain, Cryptocurrency And Bitcoin                                                                                                           1067\n",
       "Product Management                                                                                                                               1041\n",
       "Artificial Intelligence                                                                                                                           900\n",
       "                                                                                                                                                 ... \n",
       "Ghulami ka samandr/Khoon ka Samandar/Qatal ka khoon/Shetan k Pujari/Zaal ka Mansoba                                                                 1\n",
       "(C++)/مشین لرننگ/ڈیٹا سائنس/Introduction to Blockchain with Case Studies/R ka Taaruf                                                                1\n",
       "مشین لرننگ/ڈیٹا سائنس/Artificial Intelligence/Python Programming/انٹرنیٹ سے پیسہ کمائیں/Sukkur To Florida/ایک تھا الگورتھم/اجالوں کا سفر            1\n",
       "Jismani Taleem or Kirdar Sazi                                                                                                                       1\n",
       "Aik Pagal ki Diary/Justju ka safar-1/Samaji tashkeel e nu k usool/Qomiyat or Watniyat/Azadi or Tehzeeb/نفسیات کے معمار/Danayi Ki Talaash main       1\n",
       "Name: Book Name, Length: 3518, dtype: int64"
      ]
     },
     "execution_count": 73,
     "metadata": {},
     "output_type": "execute_result"
    }
   ],
   "source": [
    "df['Book Name'].value_counts()"
   ]
  },
  {
   "cell_type": "code",
   "execution_count": 142,
   "metadata": {},
   "outputs": [
    {
     "data": {
      "text/plain": [
       "Text(0.5, 1.0, 'Books Order in Each city')"
      ]
     },
     "execution_count": 142,
     "metadata": {},
     "output_type": "execute_result"
    },
    {
     "name": "stderr",
     "output_type": "stream",
     "text": [
      "C:\\Users\\Chacha Tech\\anaconda3\\lib\\site-packages\\matplotlib\\backends\\backend_agg.py:238: RuntimeWarning: Glyph 1746 missing from current font.\n",
      "  font.set_text(s, 0.0, flags=flags)\n",
      "C:\\Users\\Chacha Tech\\anaconda3\\lib\\site-packages\\matplotlib\\backends\\backend_agg.py:238: RuntimeWarning: Glyph 1729 missing from current font.\n",
      "  font.set_text(s, 0.0, flags=flags)\n",
      "C:\\Users\\Chacha Tech\\anaconda3\\lib\\site-packages\\matplotlib\\backends\\backend_agg.py:238: RuntimeWarning: Glyph 1748 missing from current font.\n",
      "  font.set_text(s, 0.0, flags=flags)\n",
      "C:\\Users\\Chacha Tech\\anaconda3\\lib\\site-packages\\matplotlib\\backends\\backend_agg.py:201: RuntimeWarning: Glyph 1746 missing from current font.\n",
      "  font.set_text(s, 0, flags=flags)\n",
      "C:\\Users\\Chacha Tech\\anaconda3\\lib\\site-packages\\matplotlib\\backends\\backend_agg.py:201: RuntimeWarning: Glyph 1729 missing from current font.\n",
      "  font.set_text(s, 0, flags=flags)\n",
      "C:\\Users\\Chacha Tech\\anaconda3\\lib\\site-packages\\matplotlib\\backends\\backend_agg.py:201: RuntimeWarning: Glyph 1748 missing from current font.\n",
      "  font.set_text(s, 0, flags=flags)\n"
     ]
    },
    {
     "data": {
      "image/png": "[encoded data removed]",
      "text/plain": [
       "<Figure size 1008x1728 with 1 Axes>"
      ]
     },
     "metadata": {
      "needs_background": "light"
     },
     "output_type": "display_data"
    }
   ],
   "source": [
    "plt.figure(figsize = (14, 24))\n",
    "# c = ['red', 'yellow', 'black', 'blue', 'orange','red', 'yellow', 'black', 'blue', 'orange']\n",
    "fig = df['Book Name'].value_counts().head(10).plot.bar()\n",
    "fig.set_title('Books Order in Each city')"
   ]
  },
  {
   "cell_type": "code",
   "execution_count": 75,
   "metadata": {},
   "outputs": [
    {
     "data": {
      "text/html": [
       "<div>\n",
       "<style scoped>\n",
       "    .dataframe tbody tr th:only-of-type {\n",
       "        vertical-align: middle;\n",
       "    }\n",
       "\n",
       "    .dataframe tbody tr th {\n",
       "        vertical-align: top;\n",
       "    }\n",
       "\n",
       "    .dataframe thead th {\n",
       "        text-align: right;\n",
       "    }\n",
       "</style>\n",
       "<table border=\"1\" class=\"dataframe\">\n",
       "  <thead>\n",
       "    <tr style=\"text-align: right;\">\n",
       "      <th></th>\n",
       "      <th>Order Status</th>\n",
       "      <th>Book Name</th>\n",
       "      <th>City</th>\n",
       "      <th>Payment Method</th>\n",
       "      <th>Total items</th>\n",
       "      <th>Total weight (grams)</th>\n",
       "      <th>order_year</th>\n",
       "      <th>order_month</th>\n",
       "      <th>order_month_name</th>\n",
       "      <th>order_day</th>\n",
       "      <th>order_day_name</th>\n",
       "      <th>order_day_of_week</th>\n",
       "      <th>order_day_is_weekend</th>\n",
       "      <th>order_week_of_the_year</th>\n",
       "      <th>order_quarter</th>\n",
       "      <th>order_semester</th>\n",
       "      <th>order_hour</th>\n",
       "      <th>order_minutes</th>\n",
       "      <th>order_second</th>\n",
       "    </tr>\n",
       "  </thead>\n",
       "  <tbody>\n",
       "    <tr>\n",
       "      <th>1</th>\n",
       "      <td>Completed</td>\n",
       "      <td>Kaggle for Begginers</td>\n",
       "      <td>Rawalpindi</td>\n",
       "      <td>Cash on Delivery (COD)</td>\n",
       "      <td>1</td>\n",
       "      <td>200.0</td>\n",
       "      <td>2019</td>\n",
       "      <td>10</td>\n",
       "      <td>October</td>\n",
       "      <td>3</td>\n",
       "      <td>Thursday</td>\n",
       "      <td>3</td>\n",
       "      <td>0</td>\n",
       "      <td>40</td>\n",
       "      <td>4</td>\n",
       "      <td>2</td>\n",
       "      <td>15</td>\n",
       "      <td>54</td>\n",
       "      <td>0</td>\n",
       "    </tr>\n",
       "    <tr>\n",
       "      <th>2</th>\n",
       "      <td>Completed</td>\n",
       "      <td>Kaggle for Begginers/Bitcoin Blockchain aur Cr...</td>\n",
       "      <td>Hyderabad</td>\n",
       "      <td>Cash on Delivery (COD)</td>\n",
       "      <td>2</td>\n",
       "      <td>200.0</td>\n",
       "      <td>2019</td>\n",
       "      <td>10</td>\n",
       "      <td>October</td>\n",
       "      <td>3</td>\n",
       "      <td>Thursday</td>\n",
       "      <td>3</td>\n",
       "      <td>0</td>\n",
       "      <td>40</td>\n",
       "      <td>4</td>\n",
       "      <td>2</td>\n",
       "      <td>16</td>\n",
       "      <td>9</td>\n",
       "      <td>0</td>\n",
       "    </tr>\n",
       "    <tr>\n",
       "      <th>3</th>\n",
       "      <td>Cancelled</td>\n",
       "      <td>Kaggle for Begginers</td>\n",
       "      <td>Rawalpindi</td>\n",
       "      <td>Cash on Delivery (COD)</td>\n",
       "      <td>1</td>\n",
       "      <td>200.0</td>\n",
       "      <td>2019</td>\n",
       "      <td>10</td>\n",
       "      <td>October</td>\n",
       "      <td>3</td>\n",
       "      <td>Thursday</td>\n",
       "      <td>3</td>\n",
       "      <td>0</td>\n",
       "      <td>40</td>\n",
       "      <td>4</td>\n",
       "      <td>2</td>\n",
       "      <td>16</td>\n",
       "      <td>42</td>\n",
       "      <td>0</td>\n",
       "    </tr>\n",
       "    <tr>\n",
       "      <th>4</th>\n",
       "      <td>Completed</td>\n",
       "      <td>Bit Coin Block Chain aur Crypto Currency بٹ کو...</td>\n",
       "      <td>Karachi</td>\n",
       "      <td>Cash on Delivery (COD)</td>\n",
       "      <td>1</td>\n",
       "      <td>200.0</td>\n",
       "      <td>2019</td>\n",
       "      <td>10</td>\n",
       "      <td>October</td>\n",
       "      <td>3</td>\n",
       "      <td>Thursday</td>\n",
       "      <td>3</td>\n",
       "      <td>0</td>\n",
       "      <td>40</td>\n",
       "      <td>4</td>\n",
       "      <td>2</td>\n",
       "      <td>16</td>\n",
       "      <td>44</td>\n",
       "      <td>0</td>\n",
       "    </tr>\n",
       "    <tr>\n",
       "      <th>5</th>\n",
       "      <td>Completed</td>\n",
       "      <td>Bit Coin Block Chain aur Crypto Currency بٹ کو...</td>\n",
       "      <td>FSD</td>\n",
       "      <td>Cash on Delivery (COD)</td>\n",
       "      <td>5</td>\n",
       "      <td>200.0</td>\n",
       "      <td>2019</td>\n",
       "      <td>10</td>\n",
       "      <td>October</td>\n",
       "      <td>3</td>\n",
       "      <td>Thursday</td>\n",
       "      <td>3</td>\n",
       "      <td>0</td>\n",
       "      <td>40</td>\n",
       "      <td>4</td>\n",
       "      <td>2</td>\n",
       "      <td>18</td>\n",
       "      <td>17</td>\n",
       "      <td>0</td>\n",
       "    </tr>\n",
       "  </tbody>\n",
       "</table>\n",
       "</div>"
      ],
      "text/plain": [
       "  Order Status                                          Book Name        City  \\\n",
       "1    Completed                               Kaggle for Begginers  Rawalpindi   \n",
       "2    Completed  Kaggle for Begginers/Bitcoin Blockchain aur Cr...   Hyderabad   \n",
       "3    Cancelled                               Kaggle for Begginers  Rawalpindi   \n",
       "4    Completed  Bit Coin Block Chain aur Crypto Currency بٹ کو...    Karachi    \n",
       "5    Completed  Bit Coin Block Chain aur Crypto Currency بٹ کو...         FSD   \n",
       "\n",
       "           Payment Method  Total items  Total weight (grams)  order_year  \\\n",
       "1  Cash on Delivery (COD)            1                 200.0        2019   \n",
       "2  Cash on Delivery (COD)            2                 200.0        2019   \n",
       "3  Cash on Delivery (COD)            1                 200.0        2019   \n",
       "4  Cash on Delivery (COD)            1                 200.0        2019   \n",
       "5  Cash on Delivery (COD)            5                 200.0        2019   \n",
       "\n",
       "   order_month order_month_name  order_day order_day_name  order_day_of_week  \\\n",
       "1           10          October          3       Thursday                  3   \n",
       "2           10          October          3       Thursday                  3   \n",
       "3           10          October          3       Thursday                  3   \n",
       "4           10          October          3       Thursday                  3   \n",
       "5           10          October          3       Thursday                  3   \n",
       "\n",
       "   order_day_is_weekend  order_week_of_the_year  order_quarter  \\\n",
       "1                     0                      40              4   \n",
       "2                     0                      40              4   \n",
       "3                     0                      40              4   \n",
       "4                     0                      40              4   \n",
       "5                     0                      40              4   \n",
       "\n",
       "   order_semester  order_hour  order_minutes  order_second  \n",
       "1               2          15             54             0  \n",
       "2               2          16              9             0  \n",
       "3               2          16             42             0  \n",
       "4               2          16             44             0  \n",
       "5               2          18             17             0  "
      ]
     },
     "execution_count": 75,
     "metadata": {},
     "output_type": "execute_result"
    }
   ],
   "source": [
    "df.head()"
   ]
  },
  {
   "cell_type": "code",
   "execution_count": 80,
   "metadata": {},
   "outputs": [],
   "source": [
    "df['k_f_b'] = df['Book Name'] == 'Kaggle for Begginers'"
   ]
  },
  {
   "cell_type": "code",
   "execution_count": 81,
   "metadata": {},
   "outputs": [
    {
     "data": {
      "text/html": [
       "<div>\n",
       "<style scoped>\n",
       "    .dataframe tbody tr th:only-of-type {\n",
       "        vertical-align: middle;\n",
       "    }\n",
       "\n",
       "    .dataframe tbody tr th {\n",
       "        vertical-align: top;\n",
       "    }\n",
       "\n",
       "    .dataframe thead th {\n",
       "        text-align: right;\n",
       "    }\n",
       "</style>\n",
       "<table border=\"1\" class=\"dataframe\">\n",
       "  <thead>\n",
       "    <tr style=\"text-align: right;\">\n",
       "      <th></th>\n",
       "      <th>Order Status</th>\n",
       "      <th>Book Name</th>\n",
       "      <th>City</th>\n",
       "      <th>Payment Method</th>\n",
       "      <th>Total items</th>\n",
       "      <th>Total weight (grams)</th>\n",
       "      <th>order_year</th>\n",
       "      <th>order_month</th>\n",
       "      <th>order_month_name</th>\n",
       "      <th>order_day</th>\n",
       "      <th>order_day_name</th>\n",
       "      <th>order_day_of_week</th>\n",
       "      <th>order_day_is_weekend</th>\n",
       "      <th>order_week_of_the_year</th>\n",
       "      <th>order_quarter</th>\n",
       "      <th>order_semester</th>\n",
       "      <th>order_hour</th>\n",
       "      <th>order_minutes</th>\n",
       "      <th>order_second</th>\n",
       "      <th>k_f_b</th>\n",
       "    </tr>\n",
       "  </thead>\n",
       "  <tbody>\n",
       "    <tr>\n",
       "      <th>1</th>\n",
       "      <td>Completed</td>\n",
       "      <td>Kaggle for Begginers</td>\n",
       "      <td>Rawalpindi</td>\n",
       "      <td>Cash on Delivery (COD)</td>\n",
       "      <td>1</td>\n",
       "      <td>200.0</td>\n",
       "      <td>2019</td>\n",
       "      <td>10</td>\n",
       "      <td>October</td>\n",
       "      <td>3</td>\n",
       "      <td>Thursday</td>\n",
       "      <td>3</td>\n",
       "      <td>0</td>\n",
       "      <td>40</td>\n",
       "      <td>4</td>\n",
       "      <td>2</td>\n",
       "      <td>15</td>\n",
       "      <td>54</td>\n",
       "      <td>0</td>\n",
       "      <td>True</td>\n",
       "    </tr>\n",
       "    <tr>\n",
       "      <th>2</th>\n",
       "      <td>Completed</td>\n",
       "      <td>Kaggle for Begginers/Bitcoin Blockchain aur Cr...</td>\n",
       "      <td>Hyderabad</td>\n",
       "      <td>Cash on Delivery (COD)</td>\n",
       "      <td>2</td>\n",
       "      <td>200.0</td>\n",
       "      <td>2019</td>\n",
       "      <td>10</td>\n",
       "      <td>October</td>\n",
       "      <td>3</td>\n",
       "      <td>Thursday</td>\n",
       "      <td>3</td>\n",
       "      <td>0</td>\n",
       "      <td>40</td>\n",
       "      <td>4</td>\n",
       "      <td>2</td>\n",
       "      <td>16</td>\n",
       "      <td>9</td>\n",
       "      <td>0</td>\n",
       "      <td>False</td>\n",
       "    </tr>\n",
       "    <tr>\n",
       "      <th>3</th>\n",
       "      <td>Cancelled</td>\n",
       "      <td>Kaggle for Begginers</td>\n",
       "      <td>Rawalpindi</td>\n",
       "      <td>Cash on Delivery (COD)</td>\n",
       "      <td>1</td>\n",
       "      <td>200.0</td>\n",
       "      <td>2019</td>\n",
       "      <td>10</td>\n",
       "      <td>October</td>\n",
       "      <td>3</td>\n",
       "      <td>Thursday</td>\n",
       "      <td>3</td>\n",
       "      <td>0</td>\n",
       "      <td>40</td>\n",
       "      <td>4</td>\n",
       "      <td>2</td>\n",
       "      <td>16</td>\n",
       "      <td>42</td>\n",
       "      <td>0</td>\n",
       "      <td>True</td>\n",
       "    </tr>\n",
       "    <tr>\n",
       "      <th>4</th>\n",
       "      <td>Completed</td>\n",
       "      <td>Bit Coin Block Chain aur Crypto Currency بٹ کو...</td>\n",
       "      <td>Karachi</td>\n",
       "      <td>Cash on Delivery (COD)</td>\n",
       "      <td>1</td>\n",
       "      <td>200.0</td>\n",
       "      <td>2019</td>\n",
       "      <td>10</td>\n",
       "      <td>October</td>\n",
       "      <td>3</td>\n",
       "      <td>Thursday</td>\n",
       "      <td>3</td>\n",
       "      <td>0</td>\n",
       "      <td>40</td>\n",
       "      <td>4</td>\n",
       "      <td>2</td>\n",
       "      <td>16</td>\n",
       "      <td>44</td>\n",
       "      <td>0</td>\n",
       "      <td>False</td>\n",
       "    </tr>\n",
       "    <tr>\n",
       "      <th>5</th>\n",
       "      <td>Completed</td>\n",
       "      <td>Bit Coin Block Chain aur Crypto Currency بٹ کو...</td>\n",
       "      <td>FSD</td>\n",
       "      <td>Cash on Delivery (COD)</td>\n",
       "      <td>5</td>\n",
       "      <td>200.0</td>\n",
       "      <td>2019</td>\n",
       "      <td>10</td>\n",
       "      <td>October</td>\n",
       "      <td>3</td>\n",
       "      <td>Thursday</td>\n",
       "      <td>3</td>\n",
       "      <td>0</td>\n",
       "      <td>40</td>\n",
       "      <td>4</td>\n",
       "      <td>2</td>\n",
       "      <td>18</td>\n",
       "      <td>17</td>\n",
       "      <td>0</td>\n",
       "      <td>False</td>\n",
       "    </tr>\n",
       "  </tbody>\n",
       "</table>\n",
       "</div>"
      ],
      "text/plain": [
       "  Order Status                                          Book Name        City  \\\n",
       "1    Completed                               Kaggle for Begginers  Rawalpindi   \n",
       "2    Completed  Kaggle for Begginers/Bitcoin Blockchain aur Cr...   Hyderabad   \n",
       "3    Cancelled                               Kaggle for Begginers  Rawalpindi   \n",
       "4    Completed  Bit Coin Block Chain aur Crypto Currency بٹ کو...    Karachi    \n",
       "5    Completed  Bit Coin Block Chain aur Crypto Currency بٹ کو...         FSD   \n",
       "\n",
       "           Payment Method  Total items  Total weight (grams)  order_year  \\\n",
       "1  Cash on Delivery (COD)            1                 200.0        2019   \n",
       "2  Cash on Delivery (COD)            2                 200.0        2019   \n",
       "3  Cash on Delivery (COD)            1                 200.0        2019   \n",
       "4  Cash on Delivery (COD)            1                 200.0        2019   \n",
       "5  Cash on Delivery (COD)            5                 200.0        2019   \n",
       "\n",
       "   order_month order_month_name  order_day order_day_name  order_day_of_week  \\\n",
       "1           10          October          3       Thursday                  3   \n",
       "2           10          October          3       Thursday                  3   \n",
       "3           10          October          3       Thursday                  3   \n",
       "4           10          October          3       Thursday                  3   \n",
       "5           10          October          3       Thursday                  3   \n",
       "\n",
       "   order_day_is_weekend  order_week_of_the_year  order_quarter  \\\n",
       "1                     0                      40              4   \n",
       "2                     0                      40              4   \n",
       "3                     0                      40              4   \n",
       "4                     0                      40              4   \n",
       "5                     0                      40              4   \n",
       "\n",
       "   order_semester  order_hour  order_minutes  order_second  k_f_b  \n",
       "1               2          15             54             0   True  \n",
       "2               2          16              9             0  False  \n",
       "3               2          16             42             0   True  \n",
       "4               2          16             44             0  False  \n",
       "5               2          18             17             0  False  "
      ]
     },
     "execution_count": 81,
     "metadata": {},
     "output_type": "execute_result"
    }
   ],
   "source": [
    "df.head()"
   ]
  },
  {
   "cell_type": "code",
   "execution_count": 82,
   "metadata": {},
   "outputs": [
    {
     "data": {
      "text/plain": [
       "array(['Rawalpindi', 'Hyderabad', 'Karachi ', ...,\n",
       "       'tehsil Bhalwal District Sargodha', 'Clifton / Karachi',\n",
       "       'Mailsi, district Vehari'], dtype=object)"
      ]
     },
     "execution_count": 82,
     "metadata": {},
     "output_type": "execute_result"
    }
   ],
   "source": [
    "df['City'].unique()"
   ]
  },
  {
   "cell_type": "code",
   "execution_count": 91,
   "metadata": {},
   "outputs": [
    {
     "data": {
      "text/plain": [
       "Karachi            2330\n",
       "Lahore             1992\n",
       "Islamabad           858\n",
       "Rawalpindi          645\n",
       "Faisalabad          478\n",
       "Multan              427\n",
       "Peshawar            427\n",
       "Gujranwala          262\n",
       "karachi             253\n",
       "Hyderabad           240\n",
       "Quetta              223\n",
       "Sialkot             202\n",
       "Bahawalpur          167\n",
       "Sargodha            123\n",
       "lahore              112\n",
       "Gujrat              102\n",
       "Sahiwal              97\n",
       "Abbottabad           95\n",
       "KARACHI              94\n",
       "Okara                91\n",
       "Sheikhupura          84\n",
       "Mardan               80\n",
       "LAHORE               79\n",
       "Haripur              77\n",
       "Sukkur               77\n",
       "Chakwal              76\n",
       "Kasur                63\n",
       "Attock               62\n",
       "Rahim yar khan       60\n",
       "Vehari               60\n",
       "Swabi                59\n",
       "Rahim Yar Khan       56\n",
       "Mianwali             56\n",
       "islamabad            55\n",
       "Jhang                53\n",
       "peshawar             51\n",
       "Bannu                50\n",
       "Kohat                49\n",
       "Mansehra             49\n",
       "Burewala             48\n",
       "Mirpurkhas           47\n",
       "Larkana              43\n",
       "Buner                42\n",
       "Hafizabad            42\n",
       "Khanewal             42\n",
       "Bhakkar              41\n",
       "Wah Cantt            40\n",
       "Nowshera             39\n",
       "Dera Ghazi Khan      38\n",
       "Jaranwala            36\n",
       "Name: City, dtype: int64"
      ]
     },
     "execution_count": 91,
     "metadata": {},
     "output_type": "execute_result"
    }
   ],
   "source": [
    "df['City'].value_counts().head(50)"
   ]
  },
  {
   "cell_type": "code",
   "execution_count": 95,
   "metadata": {},
   "outputs": [],
   "source": [
    "def transform_text(text):\n",
    "    text = text.lower()                  # 1. lower case\n",
    "    \n",
    "    return text"
   ]
  },
  {
   "cell_type": "code",
   "execution_count": 128,
   "metadata": {},
   "outputs": [
    {
     "ename": "NameError",
     "evalue": "name 'transform_textansform_text' is not defined",
     "output_type": "error",
     "traceback": [
      "\u001b[1;31m---------------------------------------------------------------------------\u001b[0m",
      "\u001b[1;31mNameError\u001b[0m                                 Traceback (most recent call last)",
      "\u001b[1;32m<ipython-input-128-d447a364f8d4>\u001b[0m in \u001b[0;36m<module>\u001b[1;34m\u001b[0m\n\u001b[1;32m----> 1\u001b[1;33m \u001b[0mdf\u001b[0m\u001b[1;33m[\u001b[0m\u001b[1;34m'City_lower'\u001b[0m\u001b[1;33m]\u001b[0m \u001b[1;33m=\u001b[0m \u001b[0mdf\u001b[0m\u001b[1;33m[\u001b[0m\u001b[1;34m'City'\u001b[0m\u001b[1;33m]\u001b[0m\u001b[1;33m.\u001b[0m\u001b[0mapply\u001b[0m\u001b[1;33m(\u001b[0m\u001b[0mtransform_textansform_text\u001b[0m\u001b[1;33m)\u001b[0m\u001b[1;33m\u001b[0m\u001b[1;33m\u001b[0m\u001b[0m\n\u001b[0m",
      "\u001b[1;31mNameError\u001b[0m: name 'transform_textansform_text' is not defined"
     ]
    }
   ],
   "source": [
    "df['City_lower'] = df['City'].apply(transform_text)"
   ]
  },
  {
   "cell_type": "code",
   "execution_count": 129,
   "metadata": {},
   "outputs": [
    {
     "data": {
      "text/plain": [
       "karachi             2679\n",
       "lahore              2183\n",
       "islamabad            946\n",
       "rawalpindi           696\n",
       "faisalabad           524\n",
       "peshawar             493\n",
       "multan               464\n",
       "gujranwala           278\n",
       "hyderabad            265\n",
       "quetta               252\n",
       "sialkot              239\n",
       "bahawalpur           187\n",
       "rahim yar khan       150\n",
       "sargodha             144\n",
       "sahiwal              115\n",
       "gujrat               113\n",
       "okara                103\n",
       "abbottabad           103\n",
       "sheikhupura           97\n",
       "mardan                89\n",
       "chakwal               89\n",
       "haripur               85\n",
       "sukkur                85\n",
       "attock                73\n",
       "kasur                 72\n",
       "dera ghazi khan       72\n",
       "dera ismail khan      72\n",
       "swabi                 72\n",
       "wah cantt             67\n",
       "vehari                67\n",
       "bannu                 65\n",
       "mianwali              64\n",
       "kohat                 61\n",
       "jhang                 59\n",
       "mansehra              56\n",
       "lakki marwat          53\n",
       "toba tek singh        53\n",
       "burewala              53\n",
       "mirpurkhas            51\n",
       "chiniot               50\n",
       "larkana               50\n",
       "hafizabad             49\n",
       "khanewal              47\n",
       "buner                 47\n",
       "bhakkar               42\n",
       "nowshera              42\n",
       "city                  40\n",
       "jaranwala             39\n",
       "charsadda             38\n",
       "layyah                37\n",
       "muzaffargarh          37\n",
       "jhelum                37\n",
       "daska                 36\n",
       "mirpur                35\n",
       "karak                 34\n",
       "mandi bahauddin       34\n",
       "lodhran               33\n",
       "taxila                32\n",
       "pakpattan             32\n",
       "sadiqabad             32\n",
       "Name: City_lower, dtype: int64"
      ]
     },
     "execution_count": 129,
     "metadata": {},
     "output_type": "execute_result"
    }
   ],
   "source": [
    "df['City_lower'].value_counts().head(60)"
   ]
  },
  {
   "cell_type": "code",
   "execution_count": 130,
   "metadata": {},
   "outputs": [
    {
     "data": {
      "text/plain": [
       "sanghar city                                             1\n",
       "hospital                                                 1\n",
       "peshawar rahatabad                                       1\n",
       "hamza town                                               1\n",
       "tehsil pind dadan khan distt jhelum                      1\n",
       "khayaban e jinnah adyala road rawalpindi                 1\n",
       "gukrat                                                   1\n",
       "head rajkan district bahawalpur                          1\n",
       "koral islamabad                                          1\n",
       "chashma district mianwali                                1\n",
       "sahiwal sahiwal                                          1\n",
       "pirmahl                                                  1\n",
       "tehsil naushera distric khushab                          1\n",
       "phalia city. district mandi bahauddin                    1\n",
       "same                                                     1\n",
       "murree,etehad general store main jhika gali bazar        1\n",
       "puran machkandai                                         1\n",
       "chowki                                                   1\n",
       "attock/kamra                                             1\n",
       "abul hassan isphani road / karachi                       1\n",
       "vip phase ghuri town islamabd                            1\n",
       "raiwind city                                             1\n",
       "toba tek sing                                            1\n",
       "لانڈھی ٹاؤن کراچی                                        1\n",
       "abbottabad....                                           1\n",
       "tehsil wazirabad, distt. gujranwala                      1\n",
       "khudian khass                                            1\n",
       "street no 13, sector a, dha phase 1, islamabad           1\n",
       "safdar abad district shaikhupura                         1\n",
       "rachna town                                              1\n",
       "model town sialkot                                       1\n",
       "bhan saeedabad district jamshoro                         1\n",
       "mankera                                                  1\n",
       "farooqabad distt sheikhupura                             1\n",
       "hattar industrial estate district haripur kpk            1\n",
       "gohar town                                               1\n",
       "peshawr                                                  1\n",
       "196gb, mureed wala, samundri, faislabad                  1\n",
       "hunza                                                    1\n",
       "gaggoo mandi tehsil burewala (district vehari)           1\n",
       "قصور                                                     1\n",
       "shahpur kanjraan, lahore                                 1\n",
       "dist faisalbad tehseel jaranwala                         1\n",
       "bhagtanwala                                              1\n",
       "draya khan                                               1\n",
       "kotmithan                                                1\n",
       "tehsil khwaza khela, distric swat                        1\n",
       "gujarkhan distt. rawalpindi                              1\n",
       "قادر پور راں ملتان                                       1\n",
       "gambat p o fiqra abad district khair pur talks gambat    1\n",
       "dir lower kp                                             1\n",
       "jabbar dam                                               1\n",
       "shaheed benazirabad, city sakrand                        1\n",
       "khobar                                                   1\n",
       "jungshahi                                                1\n",
       "kot qaisrani, taunsa sharif                              1\n",
       "rawalpindi/ kallar syeddan                               1\n",
       "lahore, pakistan                                         1\n",
       "nahaqi daudzai                                           1\n",
       "bhadday sharif disst gujranwala                          1\n",
       "Name: City_lower, dtype: int64"
      ]
     },
     "execution_count": 130,
     "metadata": {},
     "output_type": "execute_result"
    }
   ],
   "source": [
    "df['City_lower'].value_counts().tail(60)"
   ]
  },
  {
   "cell_type": "markdown",
   "metadata": {},
   "source": [
    "## 12. How many Book Orders in Each City. "
   ]
  },
  {
   "cell_type": "code",
   "execution_count": 141,
   "metadata": {},
   "outputs": [
    {
     "data": {
      "text/plain": [
       "Text(0.5, 1.0, 'Books Order in Each city')"
      ]
     },
     "execution_count": 141,
     "metadata": {},
     "output_type": "execute_result"
    },
    {
     "data": {
      "image/png": "[encoded data removed]",
      "text/plain": [
       "<Figure size 1008x1728 with 1 Axes>"
      ]
     },
     "metadata": {
      "needs_background": "light"
     },
     "output_type": "display_data"
    }
   ],
   "source": [
    "plt.figure(figsize = (14, 24))\n",
    "# c = ['red', 'yellow', 'black', 'blue', 'orange','red', 'yellow', 'black', 'blue', 'orange']\n",
    "fig = df['City_lower'].value_counts().head(10).plot.bar()\n",
    "fig.set_title('Books Order in Each city')"
   ]
  },
  {
   "cell_type": "code",
   "execution_count": null,
   "metadata": {},
   "outputs": [],
   "source": []
  },
  {
   "cell_type": "code",
   "execution_count": null,
   "metadata": {},
   "outputs": [],
   "source": []
  }
 ],
 "metadata": {
  "kernelspec": {
   "display_name": "Python 3",
   "language": "python",
   "name": "python3"
  },
  "language_info": {
   "codemirror_mode": {
    "name": "ipython",
    "version": 3
   },
   "file_extension": ".py",
   "mimetype": "text/x-python",
   "name": "python",
   "nbconvert_exporter": "python",
   "pygments_lexer": "ipython3",
   "version": "3.8.5"
  }
 },
 "nbformat": 4,
 "nbformat_minor": 4
}
